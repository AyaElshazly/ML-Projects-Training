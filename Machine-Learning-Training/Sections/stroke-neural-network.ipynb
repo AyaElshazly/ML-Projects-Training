{
 "cells": [
  {
   "cell_type": "markdown",
   "metadata": {
    "id": "jImpgGJgN8be"
   },
   "source": [
    "# Data preprocessing\n",
    "Stroke prediction dataset from Kaggle. Click <a href=\"https://www.kaggle.com/fedesoriano/stroke-prediction-dataset\">here</a> to see dataset description."
   ]
  },
  {
   "cell_type": "markdown",
   "metadata": {
    "id": "vUbsNiP6N8bp"
   },
   "source": [
    "**1. Reading dataset, removing missing values, splitting data to input and output**"
   ]
  },
  {
   "cell_type": "code",
   "execution_count": null,
   "metadata": {
    "id": "Sg2OL3qTN8bq",
    "outputId": "2d434095-e3d7-4f84-91b5-8074b3e8213c"
   },
   "outputs": [
    {
     "name": "stdout",
     "output_type": "stream",
     "text": [
      "0    4700\n",
      "1     209\n",
      "Name: stroke, dtype: int64\n"
     ]
    }
   ],
   "source": [
    "import pandas as pd\n",
    "    \n",
    "# Reading data\n",
    "data = pd.read_csv('healthcare-dataset-stroke-data.csv')\n",
    "\n",
    "# removing rows with missing values\n",
    "data_clean = data.dropna(axis=0)\n",
    "\n",
    "# splitting into input and output\n",
    "data_input = data_clean.drop(columns=['id', 'stroke'])\n",
    "data_output = data_clean['stroke']\n",
    "\n",
    "# print number of samples of each class\n",
    "print(data_output.value_counts())"
   ]
  },
  {
   "cell_type": "markdown",
   "metadata": {
    "id": "eos0WcflN8bt"
   },
   "source": [
    "**2. Undersampling: Reducing class 0 to become twice as class 1**"
   ]
  },
  {
   "cell_type": "markdown",
   "metadata": {
    "id": "Yd1zcMOsOVPY"
   },
   "source": [
    "Use the following command to install imblearn (if not installed)\n",
    "\n",
    "`!pip install imblearn`"
   ]
  },
  {
   "cell_type": "code",
   "execution_count": null,
   "metadata": {
    "id": "qFrPkcA0N8bu",
    "outputId": "8b6aaa4d-fbe7-4c9d-d656-b2d2d8880fc0"
   },
   "outputs": [
    {
     "name": "stdout",
     "output_type": "stream",
     "text": [
      "0    418\n",
      "1    209\n",
      "Name: stroke, dtype: int64\n"
     ]
    }
   ],
   "source": [
    "from imblearn.under_sampling import RandomUnderSampler\n",
    "\n",
    "# undersampling\n",
    "undersampler = RandomUnderSampler(\n",
    "    sampling_strategy=0.5, random_state=0\n",
    ")\n",
    "x, y = undersampler.fit_resample(\n",
    "    data_input, data_output\n",
    ")\n",
    "\n",
    "# print number of samples of each class\n",
    "print(y.value_counts())"
   ]
  },
  {
   "cell_type": "markdown",
   "metadata": {
    "id": "-qv7jTqRN8bw"
   },
   "source": [
    "**3. Oversampling: Increasing class 1 to become equal to class 0**"
   ]
  },
  {
   "cell_type": "code",
   "execution_count": null,
   "metadata": {
    "id": "wu6iBERzN8by",
    "outputId": "33edb639-26fa-4ac7-b2e5-0a055f25bef1"
   },
   "outputs": [
    {
     "name": "stdout",
     "output_type": "stream",
     "text": [
      "0    418\n",
      "1    418\n",
      "Name: stroke, dtype: int64\n"
     ]
    }
   ],
   "source": [
    "from imblearn.over_sampling import RandomOverSampler\n",
    "\n",
    "# oversampling\n",
    "oversampler = RandomOverSampler(\n",
    "    sampling_strategy=1.0, random_state=0\n",
    ")\n",
    "data_input_balanced, data_output_balanced = oversampler.fit_resample(\n",
    "    x, y\n",
    ")\n",
    "\n",
    "# print number of samples of each class\n",
    "print(data_output_balanced.value_counts())"
   ]
  },
  {
   "cell_type": "markdown",
   "metadata": {
    "id": "pTVarbV3N8bz"
   },
   "source": [
    "**4. Encoding categorical features, splitting data to train-validation-test, feature scaling**"
   ]
  },
  {
   "cell_type": "code",
   "execution_count": null,
   "metadata": {
    "id": "tA1il-WVN8b0",
    "outputId": "2a52ed9b-9a83-4c66-e623-1ae1122d708f"
   },
   "outputs": [
    {
     "name": "stdout",
     "output_type": "stream",
     "text": [
      "train = 501\n",
      "val = 167\n",
      "test = 168\n"
     ]
    }
   ],
   "source": [
    "from sklearn.model_selection import train_test_split\n",
    "from sklearn.preprocessing import StandardScaler\n",
    "\n",
    "# numeric encoding\n",
    "data_input_encoded = data_input_balanced.replace({\n",
    "    'gender': {'Male': 0, 'Female': 1},\n",
    "    'ever_married': {'Yes': 1, 'No': 0},\n",
    "    'Residence_type': {'Rural': 0, 'Urban': 1}\n",
    "})\n",
    "\n",
    "# one-hot encoding\n",
    "data_input_encoded_final = pd.get_dummies(data_input_encoded)\n",
    "\n",
    "# split into (train-validation-test)\n",
    "X, X_test, y, y_test = train_test_split(\n",
    "    data_input_encoded_final, data_output_balanced, test_size=0.20, random_state=0\n",
    ")\n",
    "X_train, X_val, y_train, y_val = train_test_split(\n",
    "    X, y, test_size=0.25, random_state=0\n",
    ")\n",
    "print('train =', X_train.shape[0])\n",
    "print('val =', X_val.shape[0])\n",
    "print('test =', X_test.shape[0])\n",
    "\n",
    "# feature scaling\n",
    "scaler = StandardScaler()\n",
    "scaler.fit(X_train)\n",
    "X_train_scaled = scaler.transform(X_train)\n",
    "X_val_scaled = scaler.transform(X_val)\n",
    "X_test_scaled = scaler.transform(X_test)"
   ]
  },
  {
   "cell_type": "markdown",
   "metadata": {
    "id": "a8ARoSgNN8b3"
   },
   "source": [
    "# Artificial Neural Network\n",
    "\n",
    "<img src=\"neural-network.png\" alt=\"Neural Network Architecture\" width=\"700px\">\n",
    "\n",
    "- We use ReLU activation function for all hidden layers.\n",
    "- We use Sigmoid activation function for output layer."
   ]
  },
  {
   "cell_type": "code",
   "execution_count": null,
   "metadata": {
    "id": "46dS14uIN8b4"
   },
   "outputs": [],
   "source": [
    "from tensorflow.keras.models import Sequential\n",
    "from tensorflow.keras.layers import Dense\n",
    "\n",
    "n_features = X_train_scaled.shape[1]\n",
    "\n",
    "model = Sequential()\n",
    "model.add(Dense(128, activation='relu', input_dim=n_features))\n",
    "model.add(Dense(64, activation='relu'))\n",
    "model.add(Dense(32, activation='relu'))\n",
    "model.add(Dense(16, activation='relu'))\n",
    "model.add(Dense(8, activation='relu'))\n",
    "model.add(Dense(4, activation='relu'))\n",
    "model.add(Dense(1, activation='sigmoid'))\n",
    "model.compile(loss='binary_crossentropy', optimizer='adam', metrics=['accuracy'])"
   ]
  },
  {
   "cell_type": "markdown",
   "metadata": {
    "id": "_Oq6UqfMN8b5"
   },
   "source": [
    "# Training (and validating) our neural network"
   ]
  },
  {
   "cell_type": "code",
   "execution_count": null,
   "metadata": {
    "id": "FLAt6KRBN8b6",
    "outputId": "c45e6a5b-4267-449d-e8ee-2c7af58d9f3d",
    "scrolled": true
   },
   "outputs": [
    {
     "name": "stdout",
     "output_type": "stream",
     "text": [
      "Epoch 1/50\n",
      "\n",
      "Epoch 00001: val_loss improved from inf to 0.66051, saving model to saved-model\\best-model\n",
      "8/8 - 1s - loss: 0.6840 - accuracy: 0.5230 - val_loss: 0.6605 - val_accuracy: 0.5629\n",
      "Epoch 2/50\n",
      "\n",
      "Epoch 00002: val_loss improved from 0.66051 to 0.63074, saving model to saved-model\\best-model\n",
      "8/8 - 0s - loss: 0.6534 - accuracy: 0.6487 - val_loss: 0.6307 - val_accuracy: 0.6826\n",
      "Epoch 3/50\n",
      "\n",
      "Epoch 00003: val_loss improved from 0.63074 to 0.61097, saving model to saved-model\\best-model\n",
      "8/8 - 0s - loss: 0.6312 - accuracy: 0.7186 - val_loss: 0.6110 - val_accuracy: 0.7126\n",
      "Epoch 4/50\n",
      "\n",
      "Epoch 00004: val_loss improved from 0.61097 to 0.59608, saving model to saved-model\\best-model\n",
      "8/8 - 0s - loss: 0.6116 - accuracy: 0.7485 - val_loss: 0.5961 - val_accuracy: 0.7305\n",
      "Epoch 5/50\n",
      "\n",
      "Epoch 00005: val_loss improved from 0.59608 to 0.58488, saving model to saved-model\\best-model\n",
      "8/8 - 0s - loss: 0.5984 - accuracy: 0.7585 - val_loss: 0.5849 - val_accuracy: 0.7425\n",
      "Epoch 6/50\n",
      "\n",
      "Epoch 00006: val_loss improved from 0.58488 to 0.57539, saving model to saved-model\\best-model\n",
      "8/8 - 0s - loss: 0.5842 - accuracy: 0.7565 - val_loss: 0.5754 - val_accuracy: 0.7844\n",
      "Epoch 7/50\n",
      "\n",
      "Epoch 00007: val_loss improved from 0.57539 to 0.56627, saving model to saved-model\\best-model\n",
      "8/8 - 0s - loss: 0.5666 - accuracy: 0.7924 - val_loss: 0.5663 - val_accuracy: 0.7844\n",
      "Epoch 8/50\n",
      "\n",
      "Epoch 00008: val_loss improved from 0.56627 to 0.55541, saving model to saved-model\\best-model\n",
      "8/8 - 0s - loss: 0.5506 - accuracy: 0.8004 - val_loss: 0.5554 - val_accuracy: 0.8024\n",
      "Epoch 9/50\n",
      "\n",
      "Epoch 00009: val_loss improved from 0.55541 to 0.54569, saving model to saved-model\\best-model\n",
      "8/8 - 0s - loss: 0.5331 - accuracy: 0.8124 - val_loss: 0.5457 - val_accuracy: 0.8084\n",
      "Epoch 10/50\n",
      "\n",
      "Epoch 00010: val_loss did not improve from 0.54569\n",
      "8/8 - 0s - loss: 0.5133 - accuracy: 0.8263 - val_loss: 0.5495 - val_accuracy: 0.7904\n",
      "Epoch 11/50\n",
      "\n",
      "Epoch 00011: val_loss improved from 0.54569 to 0.53387, saving model to saved-model\\best-model\n",
      "8/8 - 0s - loss: 0.4898 - accuracy: 0.8204 - val_loss: 0.5339 - val_accuracy: 0.8024\n",
      "Epoch 12/50\n",
      "\n",
      "Epoch 00012: val_loss improved from 0.53387 to 0.52286, saving model to saved-model\\best-model\n",
      "8/8 - 0s - loss: 0.4634 - accuracy: 0.8443 - val_loss: 0.5229 - val_accuracy: 0.8024\n",
      "Epoch 13/50\n",
      "\n",
      "Epoch 00013: val_loss improved from 0.52286 to 0.48236, saving model to saved-model\\best-model\n",
      "8/8 - 0s - loss: 0.4192 - accuracy: 0.8483 - val_loss: 0.4824 - val_accuracy: 0.8204\n",
      "Epoch 14/50\n",
      "\n",
      "Epoch 00014: val_loss improved from 0.48236 to 0.46528, saving model to saved-model\\best-model\n",
      "8/8 - 0s - loss: 0.3831 - accuracy: 0.8523 - val_loss: 0.4653 - val_accuracy: 0.8204\n",
      "Epoch 15/50\n",
      "\n",
      "Epoch 00015: val_loss did not improve from 0.46528\n",
      "8/8 - 0s - loss: 0.3461 - accuracy: 0.8782 - val_loss: 0.4842 - val_accuracy: 0.8263\n",
      "Epoch 16/50\n",
      "\n",
      "Epoch 00016: val_loss did not improve from 0.46528\n",
      "8/8 - 0s - loss: 0.3238 - accuracy: 0.8802 - val_loss: 0.4693 - val_accuracy: 0.8024\n",
      "Epoch 17/50\n",
      "\n",
      "Epoch 00017: val_loss did not improve from 0.46528\n",
      "8/8 - 0s - loss: 0.3128 - accuracy: 0.8822 - val_loss: 0.5143 - val_accuracy: 0.8383\n",
      "Epoch 18/50\n",
      "\n",
      "Epoch 00018: val_loss did not improve from 0.46528\n",
      "8/8 - 0s - loss: 0.2956 - accuracy: 0.8922 - val_loss: 0.5029 - val_accuracy: 0.8263\n",
      "Epoch 19/50\n",
      "\n",
      "Epoch 00019: val_loss did not improve from 0.46528\n",
      "8/8 - 0s - loss: 0.2779 - accuracy: 0.8982 - val_loss: 0.4962 - val_accuracy: 0.8323\n",
      "Epoch 20/50\n",
      "\n",
      "Epoch 00020: val_loss did not improve from 0.46528\n",
      "8/8 - 0s - loss: 0.2692 - accuracy: 0.9022 - val_loss: 0.5086 - val_accuracy: 0.8383\n",
      "Epoch 21/50\n",
      "\n",
      "Epoch 00021: val_loss did not improve from 0.46528\n",
      "8/8 - 0s - loss: 0.2497 - accuracy: 0.9142 - val_loss: 0.5004 - val_accuracy: 0.8383\n",
      "Epoch 22/50\n",
      "\n",
      "Epoch 00022: val_loss did not improve from 0.46528\n",
      "8/8 - 0s - loss: 0.2378 - accuracy: 0.9182 - val_loss: 0.5177 - val_accuracy: 0.8383\n",
      "Epoch 23/50\n",
      "\n",
      "Epoch 00023: val_loss did not improve from 0.46528\n",
      "8/8 - 0s - loss: 0.2235 - accuracy: 0.9162 - val_loss: 0.5014 - val_accuracy: 0.8323\n",
      "Epoch 24/50\n",
      "\n",
      "Epoch 00024: val_loss did not improve from 0.46528\n",
      "8/8 - 0s - loss: 0.2081 - accuracy: 0.9281 - val_loss: 0.5410 - val_accuracy: 0.8503\n",
      "Epoch 25/50\n",
      "\n",
      "Epoch 00025: val_loss did not improve from 0.46528\n",
      "8/8 - 0s - loss: 0.2055 - accuracy: 0.9321 - val_loss: 0.4956 - val_accuracy: 0.8503\n",
      "Epoch 26/50\n",
      "\n",
      "Epoch 00026: val_loss did not improve from 0.46528\n",
      "8/8 - 0s - loss: 0.2034 - accuracy: 0.9202 - val_loss: 0.4792 - val_accuracy: 0.8263\n",
      "Epoch 27/50\n",
      "\n",
      "Epoch 00027: val_loss did not improve from 0.46528\n",
      "8/8 - 0s - loss: 0.1873 - accuracy: 0.9321 - val_loss: 0.5915 - val_accuracy: 0.8263\n",
      "Epoch 28/50\n",
      "\n",
      "Epoch 00028: val_loss did not improve from 0.46528\n",
      "8/8 - 0s - loss: 0.1773 - accuracy: 0.9281 - val_loss: 0.6170 - val_accuracy: 0.8383\n",
      "Epoch 29/50\n",
      "\n",
      "Epoch 00029: val_loss did not improve from 0.46528\n",
      "8/8 - 0s - loss: 0.1803 - accuracy: 0.9222 - val_loss: 0.5609 - val_accuracy: 0.8503\n",
      "Epoch 30/50\n",
      "\n",
      "Epoch 00030: val_loss did not improve from 0.46528\n",
      "8/8 - 0s - loss: 0.1655 - accuracy: 0.9361 - val_loss: 0.5536 - val_accuracy: 0.8443\n",
      "Epoch 31/50\n",
      "\n",
      "Epoch 00031: val_loss did not improve from 0.46528\n",
      "8/8 - 0s - loss: 0.1712 - accuracy: 0.9281 - val_loss: 0.5057 - val_accuracy: 0.8443\n",
      "Epoch 32/50\n",
      "\n",
      "Epoch 00032: val_loss did not improve from 0.46528\n",
      "8/8 - 0s - loss: 0.1666 - accuracy: 0.9481 - val_loss: 0.6425 - val_accuracy: 0.8503\n",
      "Epoch 33/50\n",
      "\n",
      "Epoch 00033: val_loss did not improve from 0.46528\n",
      "8/8 - 0s - loss: 0.1491 - accuracy: 0.9421 - val_loss: 0.6293 - val_accuracy: 0.8204\n",
      "Epoch 34/50\n",
      "\n",
      "Epoch 00034: val_loss did not improve from 0.46528\n",
      "8/8 - 0s - loss: 0.1479 - accuracy: 0.9461 - val_loss: 0.5521 - val_accuracy: 0.8443\n",
      "Epoch 35/50\n",
      "\n",
      "Epoch 00035: val_loss did not improve from 0.46528\n",
      "8/8 - 0s - loss: 0.1476 - accuracy: 0.9361 - val_loss: 0.6608 - val_accuracy: 0.8263\n",
      "Epoch 36/50\n",
      "\n",
      "Epoch 00036: val_loss did not improve from 0.46528\n",
      "8/8 - 0s - loss: 0.1484 - accuracy: 0.9401 - val_loss: 0.7409 - val_accuracy: 0.8204\n",
      "Epoch 37/50\n",
      "\n",
      "Epoch 00037: val_loss did not improve from 0.46528\n",
      "8/8 - 0s - loss: 0.1363 - accuracy: 0.9421 - val_loss: 0.5931 - val_accuracy: 0.8144\n",
      "Epoch 38/50\n",
      "\n",
      "Epoch 00038: val_loss did not improve from 0.46528\n",
      "8/8 - 0s - loss: 0.1425 - accuracy: 0.9441 - val_loss: 0.7029 - val_accuracy: 0.8383\n",
      "Epoch 39/50\n",
      "\n",
      "Epoch 00039: val_loss did not improve from 0.46528\n",
      "8/8 - 0s - loss: 0.1318 - accuracy: 0.9461 - val_loss: 0.7795 - val_accuracy: 0.8263\n",
      "Epoch 40/50\n",
      "\n",
      "Epoch 00040: val_loss did not improve from 0.46528\n",
      "8/8 - 0s - loss: 0.1543 - accuracy: 0.9361 - val_loss: 0.6180 - val_accuracy: 0.8383\n",
      "Epoch 41/50\n",
      "\n",
      "Epoch 00041: val_loss did not improve from 0.46528\n",
      "8/8 - 0s - loss: 0.1384 - accuracy: 0.9441 - val_loss: 0.6578 - val_accuracy: 0.8323\n",
      "Epoch 42/50\n",
      "\n",
      "Epoch 00042: val_loss did not improve from 0.46528\n",
      "8/8 - 0s - loss: 0.1415 - accuracy: 0.9441 - val_loss: 0.7295 - val_accuracy: 0.8263\n",
      "Epoch 43/50\n",
      "\n",
      "Epoch 00043: val_loss did not improve from 0.46528\n",
      "8/8 - 0s - loss: 0.1217 - accuracy: 0.9521 - val_loss: 0.7184 - val_accuracy: 0.8263\n",
      "Epoch 44/50\n",
      "\n",
      "Epoch 00044: val_loss did not improve from 0.46528\n",
      "8/8 - 0s - loss: 0.1197 - accuracy: 0.9541 - val_loss: 0.6759 - val_accuracy: 0.8383\n",
      "Epoch 45/50\n",
      "\n",
      "Epoch 00045: val_loss did not improve from 0.46528\n",
      "8/8 - 0s - loss: 0.1134 - accuracy: 0.9521 - val_loss: 0.7935 - val_accuracy: 0.8323\n",
      "Epoch 46/50\n",
      "\n",
      "Epoch 00046: val_loss did not improve from 0.46528\n",
      "8/8 - 0s - loss: 0.1115 - accuracy: 0.9461 - val_loss: 0.6385 - val_accuracy: 0.8443\n",
      "Epoch 47/50\n",
      "\n",
      "Epoch 00047: val_loss did not improve from 0.46528\n",
      "8/8 - 0s - loss: 0.1081 - accuracy: 0.9581 - val_loss: 0.8116 - val_accuracy: 0.8204\n",
      "Epoch 48/50\n",
      "\n",
      "Epoch 00048: val_loss did not improve from 0.46528\n",
      "8/8 - 0s - loss: 0.1127 - accuracy: 0.9481 - val_loss: 0.7130 - val_accuracy: 0.8443\n",
      "Epoch 49/50\n",
      "\n",
      "Epoch 00049: val_loss did not improve from 0.46528\n",
      "8/8 - 0s - loss: 0.1116 - accuracy: 0.9481 - val_loss: 0.6964 - val_accuracy: 0.8383\n",
      "Epoch 50/50\n",
      "\n",
      "Epoch 00050: val_loss did not improve from 0.46528\n",
      "8/8 - 0s - loss: 0.1111 - accuracy: 0.9541 - val_loss: 0.9325 - val_accuracy: 0.8024\n"
     ]
    }
   ],
   "source": [
    "from tensorflow.keras.callbacks import ModelCheckpoint\n",
    "\n",
    "checkpoint = ModelCheckpoint(\n",
    "    'saved-model/best-model', save_best_only=True, save_weights_only=True,\n",
    "    monitor='val_loss', mode='min', verbose=1\n",
    ")\n",
    "\n",
    "history = model.fit(\n",
    "    X_train_scaled, y_train, \n",
    "    validation_data=(X_val_scaled, y_val), \n",
    "    batch_size=64,\n",
    "    epochs=50, \n",
    "    verbose=2,\n",
    "    callbacks=[checkpoint]\n",
    ")"
   ]
  },
  {
   "cell_type": "markdown",
   "metadata": {
    "id": "Cg9XAIE_N8b7"
   },
   "source": [
    "# History"
   ]
  },
  {
   "cell_type": "code",
   "execution_count": null,
   "metadata": {
    "id": "AUoeYbHDN8b7",
    "outputId": "2b76e3f4-5899-4698-ce42-31ef222a111a"
   },
   "outputs": [
    {
     "data": {
      "image/png": "[encoded data removed]",
      "text/plain": [
       "<Figure size 864x576 with 1 Axes>"
      ]
     },
     "metadata": {
      "needs_background": "light",
      "tags": []
     },
     "output_type": "display_data"
    }
   ],
   "source": [
    "import numpy as np\n",
    "import matplotlib.pyplot as plt\n",
    "%matplotlib inline\n",
    "\n",
    "hist_df = pd.DataFrame(history.history)\n",
    "hist_df.plot(y=['loss', 'val_loss'], figsize=(12, 8))\n",
    "plt.xlabel('epoch')\n",
    "plt.ylabel('loss')\n",
    "plt.title('Training and Validation loss')\n",
    "plt.grid(axis='both')\n",
    "plt.xticks(np.arange(0, 51, 5))\n",
    "plt.show()"
   ]
  },
  {
   "cell_type": "code",
   "execution_count": null,
   "metadata": {
    "id": "S96VTnuTN8b9",
    "outputId": "6094463c-dbaf-400c-d447-b63bbbce9561"
   },
   "outputs": [
    {
     "data": {
      "image/png": "[encoded data removed]",
      "text/plain": [
       "<Figure size 864x576 with 1 Axes>"
      ]
     },
     "metadata": {
      "needs_background": "light",
      "tags": []
     },
     "output_type": "display_data"
    }
   ],
   "source": [
    "hist_df = pd.DataFrame(history.history)\n",
    "hist_df.plot(y=['accuracy', 'val_accuracy'], figsize=(12, 8))\n",
    "plt.xlabel('epoch')\n",
    "plt.ylabel('accuracy')\n",
    "plt.title('Training and Validation Accuracy')\n",
    "plt.grid(axis='both')\n",
    "plt.xticks(np.arange(0, 51, 5))\n",
    "plt.yticks(np.arange(0.5, 1.01, 0.05))\n",
    "plt.show()"
   ]
  },
  {
   "cell_type": "markdown",
   "metadata": {
    "id": "08WY2wM9N8b-"
   },
   "source": [
    "# Testing"
   ]
  },
  {
   "cell_type": "code",
   "execution_count": null,
   "metadata": {
    "id": "Zd8qH5G_N8b-",
    "outputId": "567998d0-d8ef-4661-adc6-28d2049b0f4e"
   },
   "outputs": [
    {
     "name": "stdout",
     "output_type": "stream",
     "text": [
      "6/6 [==============================] - 0s 2ms/step - loss: 0.4104 - accuracy: 0.8393\n"
     ]
    },
    {
     "data": {
      "text/plain": [
       "[0.4103691875934601, 0.8392857313156128]"
      ]
     },
     "execution_count": 35,
     "metadata": {
      "tags": []
     },
     "output_type": "execute_result"
    }
   ],
   "source": [
    "model.load_weights('saved-model/best-model')\n",
    "model.evaluate(X_test_scaled, y_test)"
   ]
  },
  {
   "cell_type": "code",
   "execution_count": null,
   "metadata": {
    "id": "FdFUR4DmN8b_"
   },
   "outputs": [],
   "source": []
  }
 ],
 "metadata": {
  "colab": {
   "collapsed_sections": [],
   "name": "stroke-neural-network.ipynb",
   "provenance": []
  },
  "kernelspec": {
   "display_name": "Python 3",
   "language": "python",
   "name": "python3"
  },
  "language_info": {
   "codemirror_mode": {
    "name": "ipython",
    "version": 3
   },
   "file_extension": ".py",
   "mimetype": "text/x-python",
   "name": "python",
   "nbconvert_exporter": "python",
   "pygments_lexer": "ipython3",
   "version": "3.8.5"
  }
 },
 "nbformat": 4,
 "nbformat_minor": 1
}
