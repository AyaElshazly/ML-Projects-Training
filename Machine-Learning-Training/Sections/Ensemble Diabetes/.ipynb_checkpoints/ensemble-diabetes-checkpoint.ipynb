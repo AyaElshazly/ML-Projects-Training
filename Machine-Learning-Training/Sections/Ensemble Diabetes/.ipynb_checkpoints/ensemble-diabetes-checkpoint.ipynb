{
 "cells": [
  {
   "cell_type": "markdown",
   "metadata": {},
   "source": [
    "# Task Overview and Dataset\n",
    "\n",
    "Our task is to classify a patient as either having diabetes (class 1) or no diabetes (class 0).\n",
    "\n",
    "We use **Pima Indians Diabetes Database** which is available on <a href=\"http://kaggle.com\">Kaggle.com</a> (You can view and download the dataset from this <a href=\"https://www.kaggle.com/uciml/pima-indians-diabetes-database\">link</a>)."
   ]
  },
  {
   "cell_type": "code",
   "execution_count": 4,
   "metadata": {},
   "outputs": [],
   "source": [
    "import pandas as pd\n",
    "\n",
    "data = pd.read_csv('data/diabetes.csv')\n",
    "\n",
    "# data.head()"
   ]
  },
  {
   "cell_type": "markdown",
   "metadata": {},
   "source": [
    "# Input and Output"
   ]
  },
  {
   "cell_type": "code",
   "execution_count": 3,
   "metadata": {},
   "outputs": [],
   "source": [
    "data_input = data.drop(columns=['Outcome'])\n",
    "data_output = data['Outcome']"
   ]
  },
  {
   "cell_type": "markdown",
   "metadata": {},
   "source": [
    "# Splitting Dataset to (Train - Validation - Test)"
   ]
  },
  {
   "cell_type": "code",
   "execution_count": 7,
   "metadata": {},
   "outputs": [],
   "source": [
    "from sklearn.model_selection import train_test_split"
   ]
  },
  {
   "cell_type": "code",
   "execution_count": 292,
   "metadata": {},
   "outputs": [],
   "source": [
    "# Getting test data\n",
    "X, X_test, y, y_test = train_test_split(\n",
    "    data_input, \n",
    "    data_output, \n",
    "    test_size=0.2, \n",
    "    random_state=1\n",
    ")\n",
    "\n",
    "# Getting train and val data\n",
    "X_train, X_val, y_train, y_val = train_test_split(\n",
    "    X, \n",
    "    y, \n",
    "    test_size=0.33, \n",
    "    random_state=1\n",
    ")"
   ]
  },
  {
   "cell_type": "code",
   "execution_count": 293,
   "metadata": {},
   "outputs": [
    {
     "name": "stdout",
     "output_type": "stream",
     "text": [
      "Train size = 411\n",
      "Val size = 203\n",
      "Test size = 154\n"
     ]
    }
   ],
   "source": [
    "print('Train size =', X_train.shape[0])\n",
    "print('Val size =', X_val.shape[0])\n",
    "print('Test size =', X_test.shape[0])"
   ]
  },
  {
   "cell_type": "markdown",
   "metadata": {},
   "source": [
    "# Feature Scaling"
   ]
  },
  {
   "cell_type": "code",
   "execution_count": 294,
   "metadata": {},
   "outputs": [],
   "source": [
    "from sklearn.preprocessing import StandardScaler\n",
    "\n",
    "scaler = StandardScaler()\n",
    "scaler.fit(X_train)\n",
    "\n",
    "X_train_scaled = scaler.transform(X_train)\n",
    "X_val_scaled = scaler.transform(X_val)\n",
    "X_test_scaled = scaler.transform(X_test)"
   ]
  },
  {
   "cell_type": "code",
   "execution_count": 295,
   "metadata": {},
   "outputs": [],
   "source": [
    "import pickle\n",
    "\n",
    "with open('scaler.pickle', 'wb') as f:\n",
    "    pickle.dump(scaler, f)"
   ]
  },
  {
   "cell_type": "markdown",
   "metadata": {},
   "source": [
    "# Helper function: Evaluate Classifier"
   ]
  },
  {
   "cell_type": "code",
   "execution_count": 296,
   "metadata": {},
   "outputs": [],
   "source": [
    "from sklearn.metrics import accuracy_score\n",
    "\n",
    "'''\n",
    "    Calculate and return training accuracy \n",
    "    and validation accuracy of given classifier\n",
    "    on given training and validation data\n",
    "'''\n",
    "def eval_classifier(clf, X_train, y_train, X_val, y_val):\n",
    "    clf.fit(X_train, y_train)\n",
    "    y_pred_train = clf.predict(X_train)\n",
    "    y_pred_val = clf.predict(X_val)\n",
    "    acc_train = accuracy_score(y_train, y_pred_train)\n",
    "    acc_val = accuracy_score(y_val, y_pred_val)\n",
    "    print(clf.__class__.__name__)\n",
    "    print('acc train:', acc_train)\n",
    "    print('acc val:', acc_val)\n",
    "    print('----------------------------')\n",
    "    return acc_train, acc_val"
   ]
  },
  {
   "cell_type": "markdown",
   "metadata": {},
   "source": [
    "# Voting Classifier"
   ]
  },
  {
   "cell_type": "code",
   "execution_count": 297,
   "metadata": {},
   "outputs": [],
   "source": [
    "from sklearn.tree import DecisionTreeClassifier\n",
    "from sklearn.svm import SVC\n",
    "from sklearn.linear_model import LogisticRegression\n",
    "from sklearn.ensemble import VotingClassifier"
   ]
  },
  {
   "cell_type": "code",
   "execution_count": 298,
   "metadata": {},
   "outputs": [],
   "source": [
    "tree_clf = DecisionTreeClassifier(random_state=1)\n",
    "logistic_clf = LogisticRegression(random_state=1)\n",
    "svc_clf = SVC(random_state=1)\n",
    "\n",
    "estimators = [\n",
    "    ('tree', tree_clf),\n",
    "    ('logistic', logistic_clf),\n",
    "    ('svc', svc_clf),\n",
    "]\n",
    "\n",
    "voting_clf = VotingClassifier(estimators)"
   ]
  },
  {
   "cell_type": "code",
   "execution_count": 299,
   "metadata": {},
   "outputs": [
    {
     "name": "stdout",
     "output_type": "stream",
     "text": [
      "DecisionTreeClassifier\n",
      "acc train: 1.0\n",
      "acc val: 0.6748768472906403\n",
      "----------------------------\n",
      "LogisticRegression\n",
      "acc train: 0.7761557177615572\n",
      "acc val: 0.7733990147783252\n",
      "----------------------------\n",
      "SVC\n",
      "acc train: 0.8272506082725061\n",
      "acc val: 0.7487684729064039\n",
      "----------------------------\n",
      "VotingClassifier\n",
      "acc train: 0.8467153284671532\n",
      "acc val: 0.7586206896551724\n",
      "----------------------------\n"
     ]
    }
   ],
   "source": [
    "all_estimators = estimators + [('voting', voting_clf)]\n",
    "\n",
    "results = {\n",
    "    'model': [],\n",
    "    'acc train': [],\n",
    "    'acc val': []\n",
    "}\n",
    "\n",
    "for (name, clf) in all_estimators:\n",
    "    acc_train, acc_val = eval_classifier(\n",
    "        clf, X_train_scaled, y_train, X_val_scaled, y_val\n",
    "    )\n",
    "    results['model'].append(name)\n",
    "    results['acc train'].append(acc_train)\n",
    "    results['acc val'].append(acc_val)"
   ]
  },
  {
   "cell_type": "markdown",
   "metadata": {},
   "source": [
    "# Bagging"
   ]
  },
  {
   "cell_type": "code",
   "execution_count": 300,
   "metadata": {},
   "outputs": [
    {
     "name": "stdout",
     "output_type": "stream",
     "text": [
      "BaggingClassifier\n",
      "acc train: 0.7737226277372263\n",
      "acc val: 0.7832512315270936\n",
      "----------------------------\n"
     ]
    }
   ],
   "source": [
    "from sklearn.ensemble import BaggingClassifier\n",
    "\n",
    "bagging_clf = BaggingClassifier(\n",
    "    LogisticRegression(random_state=1), n_estimators=100,\n",
    "    max_samples=0.75, bootstrap=True, random_state=1, n_jobs=-1\n",
    ")\n",
    "\n",
    "acc_train_bag, acc_val_bag = eval_classifier(\n",
    "    bagging_clf, X_train_scaled, y_train, X_val_scaled, y_val\n",
    ")"
   ]
  },
  {
   "cell_type": "markdown",
   "metadata": {},
   "source": [
    "# Random Forest"
   ]
  },
  {
   "cell_type": "code",
   "execution_count": 301,
   "metadata": {},
   "outputs": [
    {
     "name": "stdout",
     "output_type": "stream",
     "text": [
      "RandomForestClassifier\n",
      "acc train: 0.8223844282238443\n",
      "acc val: 0.7389162561576355\n",
      "----------------------------\n"
     ]
    }
   ],
   "source": [
    "from sklearn.ensemble import RandomForestClassifier\n",
    "\n",
    "rf_clf = RandomForestClassifier(n_estimators=500, max_depth=3, random_state=1)\n",
    "\n",
    "acc_train_rf, acc_val_rf = eval_classifier(\n",
    "    rf_clf, X_train_scaled, y_train, X_val_scaled, y_val\n",
    ")"
   ]
  },
  {
   "cell_type": "markdown",
   "metadata": {},
   "source": [
    "# Extremely Random Trees (Extra-Trees)"
   ]
  },
  {
   "cell_type": "code",
   "execution_count": 302,
   "metadata": {},
   "outputs": [
    {
     "name": "stdout",
     "output_type": "stream",
     "text": [
      "ExtraTreesClassifier\n",
      "acc train: 0.7566909975669099\n",
      "acc val: 0.7142857142857143\n",
      "----------------------------\n"
     ]
    }
   ],
   "source": [
    "from sklearn.ensemble import ExtraTreesClassifier\n",
    "\n",
    "ex_clf = ExtraTreesClassifier(n_estimators=100, max_depth=4, random_state=1)\n",
    "\n",
    "acc_train_ex, acc_val_ex = eval_classifier(\n",
    "    ex_clf, X_train_scaled, y_train, X_val_scaled, y_val\n",
    ")"
   ]
  },
  {
   "cell_type": "markdown",
   "metadata": {},
   "source": [
    "# Adaptive Boosting"
   ]
  },
  {
   "cell_type": "code",
   "execution_count": 303,
   "metadata": {},
   "outputs": [
    {
     "name": "stdout",
     "output_type": "stream",
     "text": [
      "AdaBoostClassifier\n",
      "acc train: 0.7883211678832117\n",
      "acc val: 0.7438423645320197\n",
      "----------------------------\n"
     ]
    }
   ],
   "source": [
    "from sklearn.ensemble import AdaBoostClassifier\n",
    "\n",
    "ada_clf = AdaBoostClassifier(\n",
    "    DecisionTreeClassifier(max_depth=1, min_samples_leaf=50, random_state=1), \n",
    "    n_estimators=500,\n",
    "    learning_rate=0.05,\n",
    "    random_state=1\n",
    ")\n",
    "\n",
    "acc_train_ada, acc_val_ada = eval_classifier(\n",
    "    ada_clf, X_train_scaled, y_train, X_val_scaled, y_val\n",
    ")"
   ]
  },
  {
   "cell_type": "markdown",
   "metadata": {},
   "source": [
    "# Gradient Boosting"
   ]
  },
  {
   "cell_type": "code",
   "execution_count": 304,
   "metadata": {},
   "outputs": [
    {
     "name": "stdout",
     "output_type": "stream",
     "text": [
      "GradientBoostingClassifier\n",
      "acc train: 0.8272506082725061\n",
      "acc val: 0.7487684729064039\n",
      "----------------------------\n"
     ]
    }
   ],
   "source": [
    "from sklearn.ensemble import GradientBoostingClassifier\n",
    "\n",
    "gbct_clf = GradientBoostingClassifier(max_depth=1, n_estimators=500, learning_rate=0.05, random_state=1)\n",
    "\n",
    "acc_train_gbct, acc_val_gbct = eval_classifier(\n",
    "    gbct_clf, X_train_scaled, y_train, X_val_scaled, y_val\n",
    ")"
   ]
  },
  {
   "cell_type": "markdown",
   "metadata": {},
   "source": [
    "# Comparing results"
   ]
  },
  {
   "cell_type": "code",
   "execution_count": 305,
   "metadata": {},
   "outputs": [],
   "source": [
    "final_results = {\n",
    "    'model': [],\n",
    "    'acc train': [],\n",
    "    'acc val': []\n",
    "}\n",
    "\n",
    "final_results['model'] = results['model'] + ['bagging', 'random forest', 'extra trees', 'adaboost', 'gbct']\n",
    "final_results['acc train'] = results['acc train'] + [acc_train_bag, acc_train_rf, acc_train_ex, acc_train_ada, acc_train_gbct]\n",
    "final_results['acc val'] = results['acc val'] + [acc_val_bag, acc_val_rf, acc_val_ex, acc_val_ada, acc_val_gbct]"
   ]
  },
  {
   "cell_type": "code",
   "execution_count": 307,
   "metadata": {},
   "outputs": [
    {
     "data": {
      "text/html": [
       "<div>\n",
       "<style scoped>\n",
       "    .dataframe tbody tr th:only-of-type {\n",
       "        vertical-align: middle;\n",
       "    }\n",
       "\n",
       "    .dataframe tbody tr th {\n",
       "        vertical-align: top;\n",
       "    }\n",
       "\n",
       "    .dataframe thead th {\n",
       "        text-align: right;\n",
       "    }\n",
       "</style>\n",
       "<table border=\"1\" class=\"dataframe\">\n",
       "  <thead>\n",
       "    <tr style=\"text-align: right;\">\n",
       "      <th></th>\n",
       "      <th>model</th>\n",
       "      <th>acc train</th>\n",
       "      <th>acc val</th>\n",
       "    </tr>\n",
       "  </thead>\n",
       "  <tbody>\n",
       "    <tr>\n",
       "      <th>0</th>\n",
       "      <td>bagging</td>\n",
       "      <td>0.773723</td>\n",
       "      <td>0.783251</td>\n",
       "    </tr>\n",
       "    <tr>\n",
       "      <th>1</th>\n",
       "      <td>logistic</td>\n",
       "      <td>0.776156</td>\n",
       "      <td>0.773399</td>\n",
       "    </tr>\n",
       "    <tr>\n",
       "      <th>2</th>\n",
       "      <td>voting</td>\n",
       "      <td>0.846715</td>\n",
       "      <td>0.758621</td>\n",
       "    </tr>\n",
       "    <tr>\n",
       "      <th>3</th>\n",
       "      <td>svc</td>\n",
       "      <td>0.827251</td>\n",
       "      <td>0.748768</td>\n",
       "    </tr>\n",
       "    <tr>\n",
       "      <th>4</th>\n",
       "      <td>gbct</td>\n",
       "      <td>0.827251</td>\n",
       "      <td>0.748768</td>\n",
       "    </tr>\n",
       "    <tr>\n",
       "      <th>5</th>\n",
       "      <td>adaboost</td>\n",
       "      <td>0.788321</td>\n",
       "      <td>0.743842</td>\n",
       "    </tr>\n",
       "    <tr>\n",
       "      <th>6</th>\n",
       "      <td>random forest</td>\n",
       "      <td>0.822384</td>\n",
       "      <td>0.738916</td>\n",
       "    </tr>\n",
       "    <tr>\n",
       "      <th>7</th>\n",
       "      <td>extra trees</td>\n",
       "      <td>0.756691</td>\n",
       "      <td>0.714286</td>\n",
       "    </tr>\n",
       "    <tr>\n",
       "      <th>8</th>\n",
       "      <td>tree</td>\n",
       "      <td>1.000000</td>\n",
       "      <td>0.674877</td>\n",
       "    </tr>\n",
       "  </tbody>\n",
       "</table>\n",
       "</div>"
      ],
      "text/plain": [
       "           model  acc train   acc val\n",
       "0        bagging   0.773723  0.783251\n",
       "1       logistic   0.776156  0.773399\n",
       "2         voting   0.846715  0.758621\n",
       "3            svc   0.827251  0.748768\n",
       "4           gbct   0.827251  0.748768\n",
       "5       adaboost   0.788321  0.743842\n",
       "6  random forest   0.822384  0.738916\n",
       "7    extra trees   0.756691  0.714286\n",
       "8           tree   1.000000  0.674877"
      ]
     },
     "execution_count": 307,
     "metadata": {},
     "output_type": "execute_result"
    }
   ],
   "source": [
    "final_results_df = pd.DataFrame(final_results)\n",
    "\n",
    "final_results_df.sort_values(by='acc val', ascending=False, ignore_index=True, inplace=True)\n",
    "\n",
    "final_results_df"
   ]
  },
  {
   "cell_type": "code",
   "execution_count": 308,
   "metadata": {},
   "outputs": [],
   "source": [
    "final_results_df.to_csv('results.csv')"
   ]
  },
  {
   "cell_type": "code",
   "execution_count": 309,
   "metadata": {},
   "outputs": [
    {
     "data": {
      "image/png": "[encoded data removed]",
      "text/plain": [
       "<Figure size 1080x360 with 1 Axes>"
      ]
     },
     "metadata": {
      "needs_background": "light"
     },
     "output_type": "display_data"
    }
   ],
   "source": [
    "import matplotlib.pyplot as plt\n",
    "import numpy as np\n",
    "%matplotlib inline\n",
    "\n",
    "final_results_df.plot.bar(x='model', y=['acc train', 'acc val'], figsize=(15,5))\n",
    "plt.yticks(np.arange(0, 1.1, 0.1))\n",
    "plt.grid(axis='y')\n",
    "plt.show()"
   ]
  },
  {
   "cell_type": "markdown",
   "metadata": {},
   "source": [
    "# Testing"
   ]
  },
  {
   "cell_type": "code",
   "execution_count": 310,
   "metadata": {},
   "outputs": [
    {
     "data": {
      "text/plain": [
       "BaggingClassifier(base_estimator=LogisticRegression(random_state=1),\n",
       "                  max_samples=0.75, n_estimators=100, n_jobs=-1,\n",
       "                  random_state=1)"
      ]
     },
     "execution_count": 310,
     "metadata": {},
     "output_type": "execute_result"
    }
   ],
   "source": [
    "bagging_clf = BaggingClassifier(\n",
    "    LogisticRegression(random_state=1), n_estimators=100,\n",
    "    max_samples=0.75, bootstrap=True, random_state=1, n_jobs=-1\n",
    ")\n",
    "\n",
    "bagging_clf.fit(X_train_scaled, y_train)"
   ]
  },
  {
   "cell_type": "code",
   "execution_count": 311,
   "metadata": {},
   "outputs": [
    {
     "name": "stdout",
     "output_type": "stream",
     "text": [
      "0.7922077922077922\n"
     ]
    }
   ],
   "source": [
    "y_pred_test = bagging_clf.predict(X_test_scaled)\n",
    "print(accuracy_score(y_test, y_pred_test))"
   ]
  },
  {
   "cell_type": "markdown",
   "metadata": {},
   "source": [
    "# Save model"
   ]
  },
  {
   "cell_type": "code",
   "execution_count": 312,
   "metadata": {},
   "outputs": [],
   "source": [
    "import pickle\n",
    "\n",
    "with open('saved-model.pickle', 'wb') as f:\n",
    "    pickle.dump(bagging_clf, f)"
   ]
  },
  {
   "cell_type": "markdown",
   "metadata": {},
   "source": [
    "# During inference time"
   ]
  },
  {
   "cell_type": "code",
   "execution_count": 313,
   "metadata": {},
   "outputs": [],
   "source": [
    "import pickle\n",
    "\n",
    "with open('saved-model.pickle', 'rb') as f:\n",
    "    my_model = pickle.load(f)\n",
    "\n",
    "with open('scaler.pickle', 'rb') as f:\n",
    "    my_scaler = pickle.load(f)"
   ]
  },
  {
   "cell_type": "code",
   "execution_count": 332,
   "metadata": {},
   "outputs": [],
   "source": [
    "# example input\n",
    "x = data_input.iloc[0]\n",
    "x_scaled = my_scaler.transform([x])"
   ]
  },
  {
   "cell_type": "code",
   "execution_count": 333,
   "metadata": {},
   "outputs": [],
   "source": [
    "y = my_model.predict(x_scaled)"
   ]
  },
  {
   "cell_type": "code",
   "execution_count": 334,
   "metadata": {},
   "outputs": [
    {
     "name": "stdout",
     "output_type": "stream",
     "text": [
      "1\n"
     ]
    }
   ],
   "source": [
    "print(y[0])"
   ]
  }
 ],
 "metadata": {
  "kernelspec": {
   "display_name": "Python 3",
   "language": "python",
   "name": "python3"
  },
  "language_info": {
   "codemirror_mode": {
    "name": "ipython",
    "version": 3
   },
   "file_extension": ".py",
   "mimetype": "text/x-python",
   "name": "python",
   "nbconvert_exporter": "python",
   "pygments_lexer": "ipython3",
   "version": "3.8.5"
  }
 },
 "nbformat": 4,
 "nbformat_minor": 4
}
