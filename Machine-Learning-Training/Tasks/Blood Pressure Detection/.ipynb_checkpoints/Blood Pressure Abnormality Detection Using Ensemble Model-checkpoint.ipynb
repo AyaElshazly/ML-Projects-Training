{
 "cells": [
  {
   "cell_type": "markdown",
   "metadata": {},
   "source": [
    "# 1. Reading Dataset\n",
    "\n",
    "We use **Blood Pressure** dataset.\n",
    "\n",
    "The dataset can be downloaded from **Kaggle** from the following link: <a href=\"https://www.kaggle.com/pavanbodanki/blood-press\">Click here to download</a>\n",
    "\n",
    "The dataset file is called `data.CSV`.\n",
    "The dataset consists of **2000 samples** with 15 columns (Patient_Number + **13 features** + **Blood_Pressure_Abnormality**). \n",
    "\n",
    "Our objective is to use the features to **detect a blood pressure abnormality** to either **no or yes**.\n",
    "\n",
    "We use `pd.read_csv` function to read the dataset in a data frame called `data`. We call `data.head()` to print the first 5 rows."
   ]
  },
  {
   "cell_type": "code",
   "execution_count": 1,
   "metadata": {},
   "outputs": [
    {
     "data": {
      "text/html": [
       "<div>\n",
       "<style scoped>\n",
       "    .dataframe tbody tr th:only-of-type {\n",
       "        vertical-align: middle;\n",
       "    }\n",
       "\n",
       "    .dataframe tbody tr th {\n",
       "        vertical-align: top;\n",
       "    }\n",
       "\n",
       "    .dataframe thead th {\n",
       "        text-align: right;\n",
       "    }\n",
       "</style>\n",
       "<table border=\"1\" class=\"dataframe\">\n",
       "  <thead>\n",
       "    <tr style=\"text-align: right;\">\n",
       "      <th></th>\n",
       "      <th>Patient_Number</th>\n",
       "      <th>Blood_Pressure_Abnormality</th>\n",
       "      <th>Level_of_Hemoglobin</th>\n",
       "      <th>Genetic_Pedigree_Coefficient</th>\n",
       "      <th>Age</th>\n",
       "      <th>BMI</th>\n",
       "      <th>Sex</th>\n",
       "      <th>Pregnancy</th>\n",
       "      <th>Smoking</th>\n",
       "      <th>Physical_activity</th>\n",
       "      <th>salt_content_in_the_diet</th>\n",
       "      <th>alcohol_consumption_per_day</th>\n",
       "      <th>Level_of_Stress</th>\n",
       "      <th>Chronic_kidney_disease</th>\n",
       "      <th>Adrenal_and_thyroid_disorders</th>\n",
       "    </tr>\n",
       "  </thead>\n",
       "  <tbody>\n",
       "    <tr>\n",
       "      <th>0</th>\n",
       "      <td>1</td>\n",
       "      <td>1</td>\n",
       "      <td>11.28</td>\n",
       "      <td>0.90</td>\n",
       "      <td>34</td>\n",
       "      <td>23</td>\n",
       "      <td>1</td>\n",
       "      <td>1.0</td>\n",
       "      <td>0</td>\n",
       "      <td>45961</td>\n",
       "      <td>48071</td>\n",
       "      <td>NaN</td>\n",
       "      <td>2</td>\n",
       "      <td>1</td>\n",
       "      <td>1</td>\n",
       "    </tr>\n",
       "    <tr>\n",
       "      <th>1</th>\n",
       "      <td>2</td>\n",
       "      <td>0</td>\n",
       "      <td>9.75</td>\n",
       "      <td>0.23</td>\n",
       "      <td>54</td>\n",
       "      <td>33</td>\n",
       "      <td>1</td>\n",
       "      <td>NaN</td>\n",
       "      <td>0</td>\n",
       "      <td>26106</td>\n",
       "      <td>25333</td>\n",
       "      <td>205.0</td>\n",
       "      <td>3</td>\n",
       "      <td>0</td>\n",
       "      <td>0</td>\n",
       "    </tr>\n",
       "    <tr>\n",
       "      <th>2</th>\n",
       "      <td>3</td>\n",
       "      <td>1</td>\n",
       "      <td>10.79</td>\n",
       "      <td>0.91</td>\n",
       "      <td>70</td>\n",
       "      <td>49</td>\n",
       "      <td>0</td>\n",
       "      <td>NaN</td>\n",
       "      <td>0</td>\n",
       "      <td>9995</td>\n",
       "      <td>29465</td>\n",
       "      <td>67.0</td>\n",
       "      <td>2</td>\n",
       "      <td>1</td>\n",
       "      <td>0</td>\n",
       "    </tr>\n",
       "    <tr>\n",
       "      <th>3</th>\n",
       "      <td>4</td>\n",
       "      <td>0</td>\n",
       "      <td>11.00</td>\n",
       "      <td>0.43</td>\n",
       "      <td>71</td>\n",
       "      <td>50</td>\n",
       "      <td>0</td>\n",
       "      <td>NaN</td>\n",
       "      <td>0</td>\n",
       "      <td>10635</td>\n",
       "      <td>7439</td>\n",
       "      <td>242.0</td>\n",
       "      <td>1</td>\n",
       "      <td>1</td>\n",
       "      <td>0</td>\n",
       "    </tr>\n",
       "    <tr>\n",
       "      <th>4</th>\n",
       "      <td>5</td>\n",
       "      <td>1</td>\n",
       "      <td>14.17</td>\n",
       "      <td>0.83</td>\n",
       "      <td>52</td>\n",
       "      <td>19</td>\n",
       "      <td>0</td>\n",
       "      <td>NaN</td>\n",
       "      <td>0</td>\n",
       "      <td>15619</td>\n",
       "      <td>49644</td>\n",
       "      <td>397.0</td>\n",
       "      <td>2</td>\n",
       "      <td>0</td>\n",
       "      <td>0</td>\n",
       "    </tr>\n",
       "  </tbody>\n",
       "</table>\n",
       "</div>"
      ],
      "text/plain": [
       "   Patient_Number  Blood_Pressure_Abnormality  Level_of_Hemoglobin  \\\n",
       "0               1                           1                11.28   \n",
       "1               2                           0                 9.75   \n",
       "2               3                           1                10.79   \n",
       "3               4                           0                11.00   \n",
       "4               5                           1                14.17   \n",
       "\n",
       "   Genetic_Pedigree_Coefficient  Age  BMI  Sex  Pregnancy  Smoking  \\\n",
       "0                          0.90   34   23    1        1.0        0   \n",
       "1                          0.23   54   33    1        NaN        0   \n",
       "2                          0.91   70   49    0        NaN        0   \n",
       "3                          0.43   71   50    0        NaN        0   \n",
       "4                          0.83   52   19    0        NaN        0   \n",
       "\n",
       "   Physical_activity  salt_content_in_the_diet  alcohol_consumption_per_day  \\\n",
       "0              45961                     48071                          NaN   \n",
       "1              26106                     25333                        205.0   \n",
       "2               9995                     29465                         67.0   \n",
       "3              10635                      7439                        242.0   \n",
       "4              15619                     49644                        397.0   \n",
       "\n",
       "   Level_of_Stress  Chronic_kidney_disease  Adrenal_and_thyroid_disorders  \n",
       "0                2                       1                              1  \n",
       "1                3                       0                              0  \n",
       "2                2                       1                              0  \n",
       "3                1                       1                              0  \n",
       "4                2                       0                              0  "
      ]
     },
     "execution_count": 1,
     "metadata": {},
     "output_type": "execute_result"
    }
   ],
   "source": [
    "import pandas as pd\n",
    "data=\"data.CSV\"\n",
    "data = pd.read_csv(data)\n",
    "data.head()"
   ]
  },
  {
   "cell_type": "markdown",
   "metadata": {},
   "source": [
    "**The Size of the dataset**"
   ]
  },
  {
   "cell_type": "code",
   "execution_count": 2,
   "metadata": {},
   "outputs": [
    {
     "data": {
      "text/plain": [
       "(2000, 15)"
      ]
     },
     "execution_count": 2,
     "metadata": {},
     "output_type": "execute_result"
    }
   ],
   "source": [
    "data.shape"
   ]
  },
  {
   "cell_type": "markdown",
   "metadata": {},
   "source": [
    "**Basic info about data**"
   ]
  },
  {
   "cell_type": "code",
   "execution_count": 3,
   "metadata": {},
   "outputs": [
    {
     "name": "stdout",
     "output_type": "stream",
     "text": [
      "<class 'pandas.core.frame.DataFrame'>\n",
      "RangeIndex: 2000 entries, 0 to 1999\n",
      "Data columns (total 15 columns):\n",
      " #   Column                         Non-Null Count  Dtype  \n",
      "---  ------                         --------------  -----  \n",
      " 0   Patient_Number                 2000 non-null   int64  \n",
      " 1   Blood_Pressure_Abnormality     2000 non-null   int64  \n",
      " 2   Level_of_Hemoglobin            2000 non-null   float64\n",
      " 3   Genetic_Pedigree_Coefficient   1908 non-null   float64\n",
      " 4   Age                            2000 non-null   int64  \n",
      " 5   BMI                            2000 non-null   int64  \n",
      " 6   Sex                            2000 non-null   int64  \n",
      " 7   Pregnancy                      442 non-null    float64\n",
      " 8   Smoking                        2000 non-null   int64  \n",
      " 9   Physical_activity              2000 non-null   int64  \n",
      " 10  salt_content_in_the_diet       2000 non-null   int64  \n",
      " 11  alcohol_consumption_per_day    1758 non-null   float64\n",
      " 12  Level_of_Stress                2000 non-null   int64  \n",
      " 13  Chronic_kidney_disease         2000 non-null   int64  \n",
      " 14  Adrenal_and_thyroid_disorders  2000 non-null   int64  \n",
      "dtypes: float64(4), int64(11)\n",
      "memory usage: 234.5 KB\n"
     ]
    }
   ],
   "source": [
    "data.info()"
   ]
  },
  {
   "cell_type": "markdown",
   "metadata": {},
   "source": [
    "# 2. Data Preprocessing"
   ]
  },
  {
   "cell_type": "markdown",
   "metadata": {},
   "source": [
    "**Checking Missing Values**"
   ]
  },
  {
   "cell_type": "code",
   "execution_count": 4,
   "metadata": {},
   "outputs": [
    {
     "name": "stdout",
     "output_type": "stream",
     "text": [
      "Missing values in rows: 1682\n",
      "the ratio of rows with missing data: 0.841\n"
     ]
    }
   ],
   "source": [
    "print(\"Missing values in rows:\",data.isnull().any(axis=1).sum())\n",
    "mask_row = data.isnull().any(axis=1)\n",
    "# calculate number of rows with missing data\n",
    "num_of_rows_with_nan = mask_row.sum()\n",
    "# print the ratio of rows with missing data\n",
    "print('the ratio of rows with missing data:', num_of_rows_with_nan/len(data))"
   ]
  },
  {
   "cell_type": "markdown",
   "metadata": {},
   "source": [
    "**Dealing with missing values**\n",
    "#### \"the ratio of rows with missing Values : 84.1%\"\n",
    "#### \"Missing values in rows: 1682\" \n",
    "It's not best solution yo remove rows with missing values. \n",
    "we note that column=['Pregnancy'] contains large amount of missing data about 1558 samples =~ 78%, so we drop it from data. Then, we will fill the missing values by column average.\n"
   ]
  },
  {
   "cell_type": "code",
   "execution_count": 5,
   "metadata": {},
   "outputs": [
    {
     "data": {
      "text/html": [
       "<div>\n",
       "<style scoped>\n",
       "    .dataframe tbody tr th:only-of-type {\n",
       "        vertical-align: middle;\n",
       "    }\n",
       "\n",
       "    .dataframe tbody tr th {\n",
       "        vertical-align: top;\n",
       "    }\n",
       "\n",
       "    .dataframe thead th {\n",
       "        text-align: right;\n",
       "    }\n",
       "</style>\n",
       "<table border=\"1\" class=\"dataframe\">\n",
       "  <thead>\n",
       "    <tr style=\"text-align: right;\">\n",
       "      <th></th>\n",
       "      <th>Patient_Number</th>\n",
       "      <th>Blood_Pressure_Abnormality</th>\n",
       "      <th>Level_of_Hemoglobin</th>\n",
       "      <th>Genetic_Pedigree_Coefficient</th>\n",
       "      <th>Age</th>\n",
       "      <th>BMI</th>\n",
       "      <th>Sex</th>\n",
       "      <th>Smoking</th>\n",
       "      <th>Physical_activity</th>\n",
       "      <th>salt_content_in_the_diet</th>\n",
       "      <th>alcohol_consumption_per_day</th>\n",
       "      <th>Level_of_Stress</th>\n",
       "      <th>Chronic_kidney_disease</th>\n",
       "      <th>Adrenal_and_thyroid_disorders</th>\n",
       "    </tr>\n",
       "  </thead>\n",
       "  <tbody>\n",
       "    <tr>\n",
       "      <th>0</th>\n",
       "      <td>1</td>\n",
       "      <td>1</td>\n",
       "      <td>11.28</td>\n",
       "      <td>0.90</td>\n",
       "      <td>34</td>\n",
       "      <td>23</td>\n",
       "      <td>1</td>\n",
       "      <td>0</td>\n",
       "      <td>45961</td>\n",
       "      <td>48071</td>\n",
       "      <td>NaN</td>\n",
       "      <td>2</td>\n",
       "      <td>1</td>\n",
       "      <td>1</td>\n",
       "    </tr>\n",
       "    <tr>\n",
       "      <th>1</th>\n",
       "      <td>2</td>\n",
       "      <td>0</td>\n",
       "      <td>9.75</td>\n",
       "      <td>0.23</td>\n",
       "      <td>54</td>\n",
       "      <td>33</td>\n",
       "      <td>1</td>\n",
       "      <td>0</td>\n",
       "      <td>26106</td>\n",
       "      <td>25333</td>\n",
       "      <td>205.0</td>\n",
       "      <td>3</td>\n",
       "      <td>0</td>\n",
       "      <td>0</td>\n",
       "    </tr>\n",
       "    <tr>\n",
       "      <th>2</th>\n",
       "      <td>3</td>\n",
       "      <td>1</td>\n",
       "      <td>10.79</td>\n",
       "      <td>0.91</td>\n",
       "      <td>70</td>\n",
       "      <td>49</td>\n",
       "      <td>0</td>\n",
       "      <td>0</td>\n",
       "      <td>9995</td>\n",
       "      <td>29465</td>\n",
       "      <td>67.0</td>\n",
       "      <td>2</td>\n",
       "      <td>1</td>\n",
       "      <td>0</td>\n",
       "    </tr>\n",
       "    <tr>\n",
       "      <th>3</th>\n",
       "      <td>4</td>\n",
       "      <td>0</td>\n",
       "      <td>11.00</td>\n",
       "      <td>0.43</td>\n",
       "      <td>71</td>\n",
       "      <td>50</td>\n",
       "      <td>0</td>\n",
       "      <td>0</td>\n",
       "      <td>10635</td>\n",
       "      <td>7439</td>\n",
       "      <td>242.0</td>\n",
       "      <td>1</td>\n",
       "      <td>1</td>\n",
       "      <td>0</td>\n",
       "    </tr>\n",
       "    <tr>\n",
       "      <th>4</th>\n",
       "      <td>5</td>\n",
       "      <td>1</td>\n",
       "      <td>14.17</td>\n",
       "      <td>0.83</td>\n",
       "      <td>52</td>\n",
       "      <td>19</td>\n",
       "      <td>0</td>\n",
       "      <td>0</td>\n",
       "      <td>15619</td>\n",
       "      <td>49644</td>\n",
       "      <td>397.0</td>\n",
       "      <td>2</td>\n",
       "      <td>0</td>\n",
       "      <td>0</td>\n",
       "    </tr>\n",
       "  </tbody>\n",
       "</table>\n",
       "</div>"
      ],
      "text/plain": [
       "   Patient_Number  Blood_Pressure_Abnormality  Level_of_Hemoglobin  \\\n",
       "0               1                           1                11.28   \n",
       "1               2                           0                 9.75   \n",
       "2               3                           1                10.79   \n",
       "3               4                           0                11.00   \n",
       "4               5                           1                14.17   \n",
       "\n",
       "   Genetic_Pedigree_Coefficient  Age  BMI  Sex  Smoking  Physical_activity  \\\n",
       "0                          0.90   34   23    1        0              45961   \n",
       "1                          0.23   54   33    1        0              26106   \n",
       "2                          0.91   70   49    0        0               9995   \n",
       "3                          0.43   71   50    0        0              10635   \n",
       "4                          0.83   52   19    0        0              15619   \n",
       "\n",
       "   salt_content_in_the_diet  alcohol_consumption_per_day  Level_of_Stress  \\\n",
       "0                     48071                          NaN                2   \n",
       "1                     25333                        205.0                3   \n",
       "2                     29465                         67.0                2   \n",
       "3                      7439                        242.0                1   \n",
       "4                     49644                        397.0                2   \n",
       "\n",
       "   Chronic_kidney_disease  Adrenal_and_thyroid_disorders  \n",
       "0                       1                              1  \n",
       "1                       0                              0  \n",
       "2                       1                              0  \n",
       "3                       1                              0  \n",
       "4                       0                              0  "
      ]
     },
     "execution_count": 5,
     "metadata": {},
     "output_type": "execute_result"
    }
   ],
   "source": [
    "# Removing column=['Pregnancy'] as it contains large amount of missing data about 1558 samples =~ 78%\n",
    "data_without_pregnancy = data.drop(columns=['Pregnancy'])\n",
    "data_without_pregnancy.head()"
   ]
  },
  {
   "cell_type": "markdown",
   "metadata": {},
   "source": [
    "**Filling missing values**"
   ]
  },
  {
   "cell_type": "code",
   "execution_count": 6,
   "metadata": {},
   "outputs": [
    {
     "data": {
      "text/html": [
       "<div>\n",
       "<style scoped>\n",
       "    .dataframe tbody tr th:only-of-type {\n",
       "        vertical-align: middle;\n",
       "    }\n",
       "\n",
       "    .dataframe tbody tr th {\n",
       "        vertical-align: top;\n",
       "    }\n",
       "\n",
       "    .dataframe thead th {\n",
       "        text-align: right;\n",
       "    }\n",
       "</style>\n",
       "<table border=\"1\" class=\"dataframe\">\n",
       "  <thead>\n",
       "    <tr style=\"text-align: right;\">\n",
       "      <th></th>\n",
       "      <th>Patient_Number</th>\n",
       "      <th>Blood_Pressure_Abnormality</th>\n",
       "      <th>Level_of_Hemoglobin</th>\n",
       "      <th>Genetic_Pedigree_Coefficient</th>\n",
       "      <th>Age</th>\n",
       "      <th>BMI</th>\n",
       "      <th>Sex</th>\n",
       "      <th>Smoking</th>\n",
       "      <th>Physical_activity</th>\n",
       "      <th>salt_content_in_the_diet</th>\n",
       "      <th>alcohol_consumption_per_day</th>\n",
       "      <th>Level_of_Stress</th>\n",
       "      <th>Chronic_kidney_disease</th>\n",
       "      <th>Adrenal_and_thyroid_disorders</th>\n",
       "    </tr>\n",
       "  </thead>\n",
       "  <tbody>\n",
       "    <tr>\n",
       "      <th>0</th>\n",
       "      <td>1</td>\n",
       "      <td>1</td>\n",
       "      <td>11.28</td>\n",
       "      <td>0.90</td>\n",
       "      <td>34</td>\n",
       "      <td>23</td>\n",
       "      <td>1</td>\n",
       "      <td>0</td>\n",
       "      <td>45961</td>\n",
       "      <td>48071</td>\n",
       "      <td>251.008532</td>\n",
       "      <td>2</td>\n",
       "      <td>1</td>\n",
       "      <td>1</td>\n",
       "    </tr>\n",
       "    <tr>\n",
       "      <th>1</th>\n",
       "      <td>2</td>\n",
       "      <td>0</td>\n",
       "      <td>9.75</td>\n",
       "      <td>0.23</td>\n",
       "      <td>54</td>\n",
       "      <td>33</td>\n",
       "      <td>1</td>\n",
       "      <td>0</td>\n",
       "      <td>26106</td>\n",
       "      <td>25333</td>\n",
       "      <td>205.000000</td>\n",
       "      <td>3</td>\n",
       "      <td>0</td>\n",
       "      <td>0</td>\n",
       "    </tr>\n",
       "    <tr>\n",
       "      <th>2</th>\n",
       "      <td>3</td>\n",
       "      <td>1</td>\n",
       "      <td>10.79</td>\n",
       "      <td>0.91</td>\n",
       "      <td>70</td>\n",
       "      <td>49</td>\n",
       "      <td>0</td>\n",
       "      <td>0</td>\n",
       "      <td>9995</td>\n",
       "      <td>29465</td>\n",
       "      <td>67.000000</td>\n",
       "      <td>2</td>\n",
       "      <td>1</td>\n",
       "      <td>0</td>\n",
       "    </tr>\n",
       "    <tr>\n",
       "      <th>3</th>\n",
       "      <td>4</td>\n",
       "      <td>0</td>\n",
       "      <td>11.00</td>\n",
       "      <td>0.43</td>\n",
       "      <td>71</td>\n",
       "      <td>50</td>\n",
       "      <td>0</td>\n",
       "      <td>0</td>\n",
       "      <td>10635</td>\n",
       "      <td>7439</td>\n",
       "      <td>242.000000</td>\n",
       "      <td>1</td>\n",
       "      <td>1</td>\n",
       "      <td>0</td>\n",
       "    </tr>\n",
       "    <tr>\n",
       "      <th>4</th>\n",
       "      <td>5</td>\n",
       "      <td>1</td>\n",
       "      <td>14.17</td>\n",
       "      <td>0.83</td>\n",
       "      <td>52</td>\n",
       "      <td>19</td>\n",
       "      <td>0</td>\n",
       "      <td>0</td>\n",
       "      <td>15619</td>\n",
       "      <td>49644</td>\n",
       "      <td>397.000000</td>\n",
       "      <td>2</td>\n",
       "      <td>0</td>\n",
       "      <td>0</td>\n",
       "    </tr>\n",
       "  </tbody>\n",
       "</table>\n",
       "</div>"
      ],
      "text/plain": [
       "   Patient_Number  Blood_Pressure_Abnormality  Level_of_Hemoglobin  \\\n",
       "0               1                           1                11.28   \n",
       "1               2                           0                 9.75   \n",
       "2               3                           1                10.79   \n",
       "3               4                           0                11.00   \n",
       "4               5                           1                14.17   \n",
       "\n",
       "   Genetic_Pedigree_Coefficient  Age  BMI  Sex  Smoking  Physical_activity  \\\n",
       "0                          0.90   34   23    1        0              45961   \n",
       "1                          0.23   54   33    1        0              26106   \n",
       "2                          0.91   70   49    0        0               9995   \n",
       "3                          0.43   71   50    0        0              10635   \n",
       "4                          0.83   52   19    0        0              15619   \n",
       "\n",
       "   salt_content_in_the_diet  alcohol_consumption_per_day  Level_of_Stress  \\\n",
       "0                     48071                   251.008532                2   \n",
       "1                     25333                   205.000000                3   \n",
       "2                     29465                    67.000000                2   \n",
       "3                      7439                   242.000000                1   \n",
       "4                     49644                   397.000000                2   \n",
       "\n",
       "   Chronic_kidney_disease  Adrenal_and_thyroid_disorders  \n",
       "0                       1                              1  \n",
       "1                       0                              0  \n",
       "2                       1                              0  \n",
       "3                       1                              0  \n",
       "4                       0                              0  "
      ]
     },
     "execution_count": 6,
     "metadata": {},
     "output_type": "execute_result"
    }
   ],
   "source": [
    "# Filling with column average\n",
    "col_averages = data_without_pregnancy.mean(axis=0)\n",
    "data_clean = data_without_pregnancy.fillna(col_averages)\n",
    "data_clean.head()"
   ]
  },
  {
   "cell_type": "code",
   "execution_count": 7,
   "metadata": {},
   "outputs": [
    {
     "data": {
      "text/plain": [
       "0"
      ]
     },
     "execution_count": 7,
     "metadata": {},
     "output_type": "execute_result"
    }
   ],
   "source": [
    "# Checking Missing values again\n",
    "data_clean.isnull().any(axis=1).sum()"
   ]
  },
  {
   "cell_type": "code",
   "execution_count": 8,
   "metadata": {},
   "outputs": [
    {
     "name": "stdout",
     "output_type": "stream",
     "text": [
      "<class 'pandas.core.frame.DataFrame'>\n",
      "RangeIndex: 2000 entries, 0 to 1999\n",
      "Data columns (total 14 columns):\n",
      " #   Column                         Non-Null Count  Dtype  \n",
      "---  ------                         --------------  -----  \n",
      " 0   Patient_Number                 2000 non-null   int64  \n",
      " 1   Blood_Pressure_Abnormality     2000 non-null   int64  \n",
      " 2   Level_of_Hemoglobin            2000 non-null   float64\n",
      " 3   Genetic_Pedigree_Coefficient   2000 non-null   float64\n",
      " 4   Age                            2000 non-null   int64  \n",
      " 5   BMI                            2000 non-null   int64  \n",
      " 6   Sex                            2000 non-null   int64  \n",
      " 7   Smoking                        2000 non-null   int64  \n",
      " 8   Physical_activity              2000 non-null   int64  \n",
      " 9   salt_content_in_the_diet       2000 non-null   int64  \n",
      " 10  alcohol_consumption_per_day    2000 non-null   float64\n",
      " 11  Level_of_Stress                2000 non-null   int64  \n",
      " 12  Chronic_kidney_disease         2000 non-null   int64  \n",
      " 13  Adrenal_and_thyroid_disorders  2000 non-null   int64  \n",
      "dtypes: float64(3), int64(11)\n",
      "memory usage: 218.9 KB\n"
     ]
    }
   ],
   "source": [
    "data_clean.info()"
   ]
  },
  {
   "cell_type": "markdown",
   "metadata": {},
   "source": [
    "There are NaN values in the dataset."
   ]
  },
  {
   "cell_type": "markdown",
   "metadata": {},
   "source": [
    "# **Preparing input and output**"
   ]
  },
  {
   "cell_type": "code",
   "execution_count": 9,
   "metadata": {},
   "outputs": [
    {
     "data": {
      "text/html": [
       "<div>\n",
       "<style scoped>\n",
       "    .dataframe tbody tr th:only-of-type {\n",
       "        vertical-align: middle;\n",
       "    }\n",
       "\n",
       "    .dataframe tbody tr th {\n",
       "        vertical-align: top;\n",
       "    }\n",
       "\n",
       "    .dataframe thead th {\n",
       "        text-align: right;\n",
       "    }\n",
       "</style>\n",
       "<table border=\"1\" class=\"dataframe\">\n",
       "  <thead>\n",
       "    <tr style=\"text-align: right;\">\n",
       "      <th></th>\n",
       "      <th>Level_of_Hemoglobin</th>\n",
       "      <th>Genetic_Pedigree_Coefficient</th>\n",
       "      <th>Age</th>\n",
       "      <th>BMI</th>\n",
       "      <th>Sex</th>\n",
       "      <th>Smoking</th>\n",
       "      <th>Physical_activity</th>\n",
       "      <th>salt_content_in_the_diet</th>\n",
       "      <th>alcohol_consumption_per_day</th>\n",
       "      <th>Level_of_Stress</th>\n",
       "      <th>Chronic_kidney_disease</th>\n",
       "      <th>Adrenal_and_thyroid_disorders</th>\n",
       "    </tr>\n",
       "  </thead>\n",
       "  <tbody>\n",
       "    <tr>\n",
       "      <th>0</th>\n",
       "      <td>11.28</td>\n",
       "      <td>0.90</td>\n",
       "      <td>34</td>\n",
       "      <td>23</td>\n",
       "      <td>1</td>\n",
       "      <td>0</td>\n",
       "      <td>45961</td>\n",
       "      <td>48071</td>\n",
       "      <td>251.008532</td>\n",
       "      <td>2</td>\n",
       "      <td>1</td>\n",
       "      <td>1</td>\n",
       "    </tr>\n",
       "    <tr>\n",
       "      <th>1</th>\n",
       "      <td>9.75</td>\n",
       "      <td>0.23</td>\n",
       "      <td>54</td>\n",
       "      <td>33</td>\n",
       "      <td>1</td>\n",
       "      <td>0</td>\n",
       "      <td>26106</td>\n",
       "      <td>25333</td>\n",
       "      <td>205.000000</td>\n",
       "      <td>3</td>\n",
       "      <td>0</td>\n",
       "      <td>0</td>\n",
       "    </tr>\n",
       "    <tr>\n",
       "      <th>2</th>\n",
       "      <td>10.79</td>\n",
       "      <td>0.91</td>\n",
       "      <td>70</td>\n",
       "      <td>49</td>\n",
       "      <td>0</td>\n",
       "      <td>0</td>\n",
       "      <td>9995</td>\n",
       "      <td>29465</td>\n",
       "      <td>67.000000</td>\n",
       "      <td>2</td>\n",
       "      <td>1</td>\n",
       "      <td>0</td>\n",
       "    </tr>\n",
       "    <tr>\n",
       "      <th>3</th>\n",
       "      <td>11.00</td>\n",
       "      <td>0.43</td>\n",
       "      <td>71</td>\n",
       "      <td>50</td>\n",
       "      <td>0</td>\n",
       "      <td>0</td>\n",
       "      <td>10635</td>\n",
       "      <td>7439</td>\n",
       "      <td>242.000000</td>\n",
       "      <td>1</td>\n",
       "      <td>1</td>\n",
       "      <td>0</td>\n",
       "    </tr>\n",
       "    <tr>\n",
       "      <th>4</th>\n",
       "      <td>14.17</td>\n",
       "      <td>0.83</td>\n",
       "      <td>52</td>\n",
       "      <td>19</td>\n",
       "      <td>0</td>\n",
       "      <td>0</td>\n",
       "      <td>15619</td>\n",
       "      <td>49644</td>\n",
       "      <td>397.000000</td>\n",
       "      <td>2</td>\n",
       "      <td>0</td>\n",
       "      <td>0</td>\n",
       "    </tr>\n",
       "  </tbody>\n",
       "</table>\n",
       "</div>"
      ],
      "text/plain": [
       "   Level_of_Hemoglobin  Genetic_Pedigree_Coefficient  Age  BMI  Sex  Smoking  \\\n",
       "0                11.28                          0.90   34   23    1        0   \n",
       "1                 9.75                          0.23   54   33    1        0   \n",
       "2                10.79                          0.91   70   49    0        0   \n",
       "3                11.00                          0.43   71   50    0        0   \n",
       "4                14.17                          0.83   52   19    0        0   \n",
       "\n",
       "   Physical_activity  salt_content_in_the_diet  alcohol_consumption_per_day  \\\n",
       "0              45961                     48071                   251.008532   \n",
       "1              26106                     25333                   205.000000   \n",
       "2               9995                     29465                    67.000000   \n",
       "3              10635                      7439                   242.000000   \n",
       "4              15619                     49644                   397.000000   \n",
       "\n",
       "   Level_of_Stress  Chronic_kidney_disease  Adrenal_and_thyroid_disorders  \n",
       "0                2                       1                              1  \n",
       "1                3                       0                              0  \n",
       "2                2                       1                              0  \n",
       "3                1                       1                              0  \n",
       "4                2                       0                              0  "
      ]
     },
     "execution_count": 9,
     "metadata": {},
     "output_type": "execute_result"
    }
   ],
   "source": [
    "data_input = data_clean.drop(columns=['Patient_Number', 'Blood_Pressure_Abnormality'])\n",
    "data_input.head()"
   ]
  },
  {
   "cell_type": "code",
   "execution_count": 10,
   "metadata": {},
   "outputs": [
    {
     "data": {
      "text/plain": [
       "0    1\n",
       "1    0\n",
       "2    1\n",
       "3    0\n",
       "4    1\n",
       "Name: Blood_Pressure_Abnormality, dtype: int64"
      ]
     },
     "execution_count": 10,
     "metadata": {},
     "output_type": "execute_result"
    }
   ],
   "source": [
    "data_output = data_clean['Blood_Pressure_Abnormality']\n",
    "data_output.head()"
   ]
  },
  {
   "cell_type": "markdown",
   "metadata": {},
   "source": [
    "###### 3. Splitting the data into (train - validation - test)\n",
    "\n",
    "We split (data_input, data_output) to (67% : 33%). The 33% is used for testing. And the remaining part is split again to (70% : 30%) for training and validation respectively."
   ]
  },
  {
   "cell_type": "code",
   "execution_count": 20,
   "metadata": {},
   "outputs": [],
   "source": [
    "from sklearn.model_selection import train_test_split\n",
    "# splitting 35% for testing\n",
    "X, X_test, y, y_test = train_test_split(\n",
    "    data_input, data_output, test_size=0.33, random_state=2)\n",
    "\n",
    "# splitting the remaining part (X, y) to training and validation\n",
    "X_train, X_val, y_train, y_val = train_test_split(\n",
    "    X, y, test_size=0.30, random_state=2)"
   ]
  },
  {
   "cell_type": "code",
   "execution_count": 21,
   "metadata": {},
   "outputs": [],
   "source": [
    "def data_shape():\n",
    "    print('X_train:', X_train.shape)\n",
    "    print('y_train:', y_train.shape)\n",
    "    print('------------')\n",
    "    print('X_val:', X_val.shape)\n",
    "    print('y_val:', y_val.shape)\n",
    "    print('------------')\n",
    "    print('X_test:', X_test.shape)\n",
    "    print('y_test:', y_test.shape)"
   ]
  },
  {
   "cell_type": "code",
   "execution_count": 22,
   "metadata": {},
   "outputs": [
    {
     "name": "stdout",
     "output_type": "stream",
     "text": [
      "X_train: (938, 12)\n",
      "y_train: (938,)\n",
      "------------\n",
      "X_val: (402, 12)\n",
      "y_val: (402,)\n",
      "------------\n",
      "X_test: (660, 12)\n",
      "y_test: (660,)\n"
     ]
    }
   ],
   "source": [
    "data_shape()"
   ]
  },
  {
   "attachments": {
    "image.png": {
     "image/png": "[encoded data removed]"
    }
   },
   "cell_type": "markdown",
   "metadata": {},
   "source": [
    "**Feature Scaling**\n",
    "\n",
    "\"we have features with different ranges,so we will do feature scaling.\"\n",
    "\n",
    "\n",
    "***Standardization:***\n",
    "Making the values of each feature have mean = 0 and standard deviation = 1\n",
    "![image.png](attachment:image.png)\n"
   ]
  },
  {
   "cell_type": "code",
   "execution_count": 23,
   "metadata": {},
   "outputs": [],
   "source": [
    "from sklearn.preprocessing import StandardScaler\n",
    "scaler = StandardScaler()\n",
    "scaler.fit(X_train)\n",
    "X_train_scaled = scaler.transform(X_train)\n",
    "X_val_scaled = scaler.transform(X_val)\n",
    "X_test_scaled = scaler.transform(X_test)"
   ]
  },
  {
   "cell_type": "code",
   "execution_count": 24,
   "metadata": {},
   "outputs": [],
   "source": [
    "# Save Scaler File\n",
    "import pickle\n",
    "with open('scaler.pickle', 'wb') as f:\n",
    "    pickle.dump(scaler, f)"
   ]
  },
  {
   "cell_type": "markdown",
   "metadata": {},
   "source": [
    "**Helper function: Evaluate Classifier**"
   ]
  },
  {
   "cell_type": "code",
   "execution_count": 25,
   "metadata": {},
   "outputs": [],
   "source": [
    "from sklearn.metrics import accuracy_score\n",
    "\n",
    "'''\n",
    "    Calculate and return training accuracy \n",
    "    and validation accuracy of given classifier\n",
    "    on given training and validation data\n",
    "'''\n",
    "def eval_classifier(clf, X_train, y_train, X_val, y_val):\n",
    "    clf.fit(X_train, y_train)\n",
    "    y_pred_train = clf.predict(X_train)\n",
    "    y_pred_val = clf.predict(X_val)\n",
    "    acc_train = accuracy_score(y_train, y_pred_train)\n",
    "    acc_val = accuracy_score(y_val, y_pred_val)\n",
    "    print(clf.__class__.__name__)\n",
    "    print('Acc Train:', acc_train)\n",
    "    print('Acc Val:', acc_val)\n",
    "    print('----------------------------')\n",
    "    return acc_train, acc_val"
   ]
  },
  {
   "cell_type": "markdown",
   "metadata": {},
   "source": [
    "# Voting Classifier"
   ]
  },
  {
   "cell_type": "code",
   "execution_count": 26,
   "metadata": {},
   "outputs": [],
   "source": [
    "#import used libraries\n",
    "from sklearn.tree import DecisionTreeClassifier\n",
    "from sklearn.svm import SVC\n",
    "from sklearn.linear_model import LogisticRegression\n",
    "from sklearn.naive_bayes import GaussianNB\n",
    "from sklearn.ensemble import VotingClassifier"
   ]
  },
  {
   "cell_type": "code",
   "execution_count": 27,
   "metadata": {},
   "outputs": [],
   "source": [
    "tree_clf = DecisionTreeClassifier(random_state=2)\n",
    "logistic_clf = LogisticRegression(random_state=2)\n",
    "svc_clf = SVC(random_state=2)\n",
    "gaussian_nb = GaussianNB()\n",
    "estimators = [\n",
    "    ('Decision Tree', tree_clf),\n",
    "    ('Logistic Regression', logistic_clf),\n",
    "    ('SVC', svc_clf),\n",
    "    ('Naive Bayes', gaussian_nb),\n",
    "    ]\n",
    "\n",
    "voting_clf = VotingClassifier(estimators)"
   ]
  },
  {
   "cell_type": "code",
   "execution_count": 28,
   "metadata": {},
   "outputs": [
    {
     "name": "stdout",
     "output_type": "stream",
     "text": [
      "DecisionTreeClassifier\n",
      "Acc Train: 1.0\n",
      "Acc Val: 0.835820895522388\n",
      "----------------------------\n",
      "LogisticRegression\n",
      "Acc Train: 0.7505330490405118\n",
      "Acc Val: 0.7164179104477612\n",
      "----------------------------\n",
      "SVC\n",
      "Acc Train: 0.9008528784648188\n",
      "Acc Val: 0.8059701492537313\n",
      "----------------------------\n",
      "GaussianNB\n",
      "Acc Train: 0.8518123667377399\n",
      "Acc Val: 0.8208955223880597\n",
      "----------------------------\n",
      "VotingClassifier\n",
      "Acc Train: 0.8901918976545842\n",
      "Acc Val: 0.8034825870646766\n",
      "----------------------------\n"
     ]
    }
   ],
   "source": [
    "all_estimators = estimators + [('Voting', voting_clf)]\n",
    "\n",
    "results = {\n",
    "    'Model': [],\n",
    "    'Acc Train': [],\n",
    "    'Acc Val': []\n",
    "}\n",
    "\n",
    "for (name, clf) in all_estimators:\n",
    "    acc_train, acc_val = eval_classifier(\n",
    "        clf, X_train_scaled, y_train, X_val_scaled, y_val\n",
    "    )\n",
    "    results['Model'].append(name)\n",
    "    results['Acc Train'].append(acc_train)\n",
    "    results['Acc Val'].append(acc_val)"
   ]
  },
  {
   "cell_type": "markdown",
   "metadata": {},
   "source": [
    "# Bagging"
   ]
  },
  {
   "cell_type": "code",
   "execution_count": 29,
   "metadata": {},
   "outputs": [
    {
     "name": "stdout",
     "output_type": "stream",
     "text": [
      "BaggingClassifier\n",
      "Acc Train: 0.7505330490405118\n",
      "Acc Val: 0.7164179104477612\n",
      "----------------------------\n"
     ]
    }
   ],
   "source": [
    "from sklearn.ensemble import BaggingClassifier\n",
    "\n",
    "bagging_clf = BaggingClassifier(\n",
    "    LogisticRegression(random_state=2), n_estimators=100,\n",
    "    max_samples=0.75, bootstrap=True, random_state=2, n_jobs=-1\n",
    ")\n",
    "\n",
    "acc_train_bag, acc_val_bag = eval_classifier(\n",
    "    bagging_clf, X_train_scaled, y_train, X_val_scaled, y_val\n",
    ")"
   ]
  },
  {
   "cell_type": "markdown",
   "metadata": {},
   "source": [
    "# Random Forest"
   ]
  },
  {
   "cell_type": "code",
   "execution_count": 30,
   "metadata": {},
   "outputs": [
    {
     "name": "stdout",
     "output_type": "stream",
     "text": [
      "RandomForestClassifier\n",
      "Acc Train: 1.0\n",
      "Acc Val: 0.8781094527363185\n",
      "----------------------------\n"
     ]
    }
   ],
   "source": [
    "from sklearn.ensemble import RandomForestClassifier\n",
    "rf_clf = RandomForestClassifier(random_state=2)\n",
    "\n",
    "acc_train_rf, acc_val_rf = eval_classifier(\n",
    "    rf_clf, X_train_scaled, y_train, X_val_scaled, y_val\n",
    ")"
   ]
  },
  {
   "cell_type": "markdown",
   "metadata": {},
   "source": [
    "# Extremely Random Trees (Extra-Trees)"
   ]
  },
  {
   "cell_type": "code",
   "execution_count": 31,
   "metadata": {},
   "outputs": [
    {
     "name": "stdout",
     "output_type": "stream",
     "text": [
      "ExtraTreesClassifier\n",
      "Acc Train: 1.0\n",
      "Acc Val: 0.8208955223880597\n",
      "----------------------------\n"
     ]
    }
   ],
   "source": [
    "from sklearn.ensemble import ExtraTreesClassifier\n",
    "\n",
    "ex_clf = ExtraTreesClassifier(n_estimators=100,random_state=2)\n",
    "\n",
    "acc_train_ex, acc_val_ex = eval_classifier(\n",
    "    ex_clf, X_train_scaled, y_train, X_val_scaled, y_val\n",
    ")"
   ]
  },
  {
   "cell_type": "markdown",
   "metadata": {},
   "source": [
    "# Adaptive Boosting"
   ]
  },
  {
   "cell_type": "code",
   "execution_count": 32,
   "metadata": {},
   "outputs": [
    {
     "name": "stdout",
     "output_type": "stream",
     "text": [
      "AdaBoostClassifier\n",
      "Acc Train: 0.9040511727078892\n",
      "Acc Val: 0.8756218905472637\n",
      "----------------------------\n"
     ]
    }
   ],
   "source": [
    "from sklearn.ensemble import AdaBoostClassifier\n",
    "\n",
    "ada_clf = AdaBoostClassifier(\n",
    "    DecisionTreeClassifier(max_depth=1, min_samples_leaf=50, random_state=2), \n",
    "    random_state=2\n",
    ")\n",
    "\n",
    "acc_train_ada, acc_val_ada = eval_classifier(\n",
    "    ada_clf, X_train_scaled, y_train, X_val_scaled, y_val\n",
    ")"
   ]
  },
  {
   "cell_type": "markdown",
   "metadata": {},
   "source": [
    "#  Gradient Boosting"
   ]
  },
  {
   "cell_type": "code",
   "execution_count": 33,
   "metadata": {},
   "outputs": [
    {
     "name": "stdout",
     "output_type": "stream",
     "text": [
      "GradientBoostingClassifier\n",
      "Acc Train: 0.9498933901918977\n",
      "Acc Val: 0.8880597014925373\n",
      "----------------------------\n"
     ]
    }
   ],
   "source": [
    "from sklearn.ensemble import GradientBoostingClassifier\n",
    "\n",
    "gbct_clf = GradientBoostingClassifier(random_state=2)\n",
    "\n",
    "acc_train_gbct, acc_val_gbct = eval_classifier(\n",
    "    gbct_clf, X_train_scaled, y_train, X_val_scaled, y_val\n",
    ")"
   ]
  },
  {
   "cell_type": "markdown",
   "metadata": {},
   "source": [
    "# Comparing results"
   ]
  },
  {
   "cell_type": "code",
   "execution_count": 34,
   "metadata": {},
   "outputs": [],
   "source": [
    "final_results = {\n",
    "    'Model': [],\n",
    "    'Acc Train': [],\n",
    "    'Acc Val': []\n",
    "}\n",
    "\n",
    "final_results['Model'] = results['Model'] + ['Bagging', 'Random Forest', 'Extra Trees', 'Adaptive Boosting', 'Gradient Boosting']\n",
    "final_results['Acc Train'] = results['Acc Train'] + [acc_train_bag, acc_train_rf, acc_train_ex, acc_train_ada, acc_train_gbct]\n",
    "final_results['Acc Val'] = results['Acc Val'] + [acc_val_bag, acc_val_rf, acc_val_ex, acc_val_ada, acc_val_gbct]"
   ]
  },
  {
   "cell_type": "code",
   "execution_count": 35,
   "metadata": {},
   "outputs": [
    {
     "data": {
      "text/html": [
       "<style  type=\"text/css\" >\n",
       "#T_3cd347d0_dabe_11eb_b7d0_70f1a19c6fa9row0_col2,#T_3cd347d0_dabe_11eb_b7d0_70f1a19c6fa9row1_col1,#T_3cd347d0_dabe_11eb_b7d0_70f1a19c6fa9row3_col1,#T_3cd347d0_dabe_11eb_b7d0_70f1a19c6fa9row5_col1{\n",
       "            background-color:  lightgreen;\n",
       "        }</style><table id=\"T_3cd347d0_dabe_11eb_b7d0_70f1a19c6fa9\" ><thead>    <tr>        <th class=\"blank level0\" ></th>        <th class=\"col_heading level0 col0\" >Model</th>        <th class=\"col_heading level0 col1\" >Acc Train</th>        <th class=\"col_heading level0 col2\" >Acc Val</th>    </tr></thead><tbody>\n",
       "                <tr>\n",
       "                        <th id=\"T_3cd347d0_dabe_11eb_b7d0_70f1a19c6fa9level0_row0\" class=\"row_heading level0 row0\" >0</th>\n",
       "                        <td id=\"T_3cd347d0_dabe_11eb_b7d0_70f1a19c6fa9row0_col0\" class=\"data row0 col0\" >Gradient Boosting</td>\n",
       "                        <td id=\"T_3cd347d0_dabe_11eb_b7d0_70f1a19c6fa9row0_col1\" class=\"data row0 col1\" >0.949893</td>\n",
       "                        <td id=\"T_3cd347d0_dabe_11eb_b7d0_70f1a19c6fa9row0_col2\" class=\"data row0 col2\" >0.888060</td>\n",
       "            </tr>\n",
       "            <tr>\n",
       "                        <th id=\"T_3cd347d0_dabe_11eb_b7d0_70f1a19c6fa9level0_row1\" class=\"row_heading level0 row1\" >1</th>\n",
       "                        <td id=\"T_3cd347d0_dabe_11eb_b7d0_70f1a19c6fa9row1_col0\" class=\"data row1 col0\" >Random Forest</td>\n",
       "                        <td id=\"T_3cd347d0_dabe_11eb_b7d0_70f1a19c6fa9row1_col1\" class=\"data row1 col1\" >1.000000</td>\n",
       "                        <td id=\"T_3cd347d0_dabe_11eb_b7d0_70f1a19c6fa9row1_col2\" class=\"data row1 col2\" >0.878109</td>\n",
       "            </tr>\n",
       "            <tr>\n",
       "                        <th id=\"T_3cd347d0_dabe_11eb_b7d0_70f1a19c6fa9level0_row2\" class=\"row_heading level0 row2\" >2</th>\n",
       "                        <td id=\"T_3cd347d0_dabe_11eb_b7d0_70f1a19c6fa9row2_col0\" class=\"data row2 col0\" >Adaptive Boosting</td>\n",
       "                        <td id=\"T_3cd347d0_dabe_11eb_b7d0_70f1a19c6fa9row2_col1\" class=\"data row2 col1\" >0.904051</td>\n",
       "                        <td id=\"T_3cd347d0_dabe_11eb_b7d0_70f1a19c6fa9row2_col2\" class=\"data row2 col2\" >0.875622</td>\n",
       "            </tr>\n",
       "            <tr>\n",
       "                        <th id=\"T_3cd347d0_dabe_11eb_b7d0_70f1a19c6fa9level0_row3\" class=\"row_heading level0 row3\" >3</th>\n",
       "                        <td id=\"T_3cd347d0_dabe_11eb_b7d0_70f1a19c6fa9row3_col0\" class=\"data row3 col0\" >Decision Tree</td>\n",
       "                        <td id=\"T_3cd347d0_dabe_11eb_b7d0_70f1a19c6fa9row3_col1\" class=\"data row3 col1\" >1.000000</td>\n",
       "                        <td id=\"T_3cd347d0_dabe_11eb_b7d0_70f1a19c6fa9row3_col2\" class=\"data row3 col2\" >0.835821</td>\n",
       "            </tr>\n",
       "            <tr>\n",
       "                        <th id=\"T_3cd347d0_dabe_11eb_b7d0_70f1a19c6fa9level0_row4\" class=\"row_heading level0 row4\" >4</th>\n",
       "                        <td id=\"T_3cd347d0_dabe_11eb_b7d0_70f1a19c6fa9row4_col0\" class=\"data row4 col0\" >Naive Bayes</td>\n",
       "                        <td id=\"T_3cd347d0_dabe_11eb_b7d0_70f1a19c6fa9row4_col1\" class=\"data row4 col1\" >0.851812</td>\n",
       "                        <td id=\"T_3cd347d0_dabe_11eb_b7d0_70f1a19c6fa9row4_col2\" class=\"data row4 col2\" >0.820896</td>\n",
       "            </tr>\n",
       "            <tr>\n",
       "                        <th id=\"T_3cd347d0_dabe_11eb_b7d0_70f1a19c6fa9level0_row5\" class=\"row_heading level0 row5\" >5</th>\n",
       "                        <td id=\"T_3cd347d0_dabe_11eb_b7d0_70f1a19c6fa9row5_col0\" class=\"data row5 col0\" >Extra Trees</td>\n",
       "                        <td id=\"T_3cd347d0_dabe_11eb_b7d0_70f1a19c6fa9row5_col1\" class=\"data row5 col1\" >1.000000</td>\n",
       "                        <td id=\"T_3cd347d0_dabe_11eb_b7d0_70f1a19c6fa9row5_col2\" class=\"data row5 col2\" >0.820896</td>\n",
       "            </tr>\n",
       "            <tr>\n",
       "                        <th id=\"T_3cd347d0_dabe_11eb_b7d0_70f1a19c6fa9level0_row6\" class=\"row_heading level0 row6\" >6</th>\n",
       "                        <td id=\"T_3cd347d0_dabe_11eb_b7d0_70f1a19c6fa9row6_col0\" class=\"data row6 col0\" >SVC</td>\n",
       "                        <td id=\"T_3cd347d0_dabe_11eb_b7d0_70f1a19c6fa9row6_col1\" class=\"data row6 col1\" >0.900853</td>\n",
       "                        <td id=\"T_3cd347d0_dabe_11eb_b7d0_70f1a19c6fa9row6_col2\" class=\"data row6 col2\" >0.805970</td>\n",
       "            </tr>\n",
       "            <tr>\n",
       "                        <th id=\"T_3cd347d0_dabe_11eb_b7d0_70f1a19c6fa9level0_row7\" class=\"row_heading level0 row7\" >7</th>\n",
       "                        <td id=\"T_3cd347d0_dabe_11eb_b7d0_70f1a19c6fa9row7_col0\" class=\"data row7 col0\" >Voting</td>\n",
       "                        <td id=\"T_3cd347d0_dabe_11eb_b7d0_70f1a19c6fa9row7_col1\" class=\"data row7 col1\" >0.890192</td>\n",
       "                        <td id=\"T_3cd347d0_dabe_11eb_b7d0_70f1a19c6fa9row7_col2\" class=\"data row7 col2\" >0.803483</td>\n",
       "            </tr>\n",
       "            <tr>\n",
       "                        <th id=\"T_3cd347d0_dabe_11eb_b7d0_70f1a19c6fa9level0_row8\" class=\"row_heading level0 row8\" >8</th>\n",
       "                        <td id=\"T_3cd347d0_dabe_11eb_b7d0_70f1a19c6fa9row8_col0\" class=\"data row8 col0\" >Logistic Regression</td>\n",
       "                        <td id=\"T_3cd347d0_dabe_11eb_b7d0_70f1a19c6fa9row8_col1\" class=\"data row8 col1\" >0.750533</td>\n",
       "                        <td id=\"T_3cd347d0_dabe_11eb_b7d0_70f1a19c6fa9row8_col2\" class=\"data row8 col2\" >0.716418</td>\n",
       "            </tr>\n",
       "            <tr>\n",
       "                        <th id=\"T_3cd347d0_dabe_11eb_b7d0_70f1a19c6fa9level0_row9\" class=\"row_heading level0 row9\" >9</th>\n",
       "                        <td id=\"T_3cd347d0_dabe_11eb_b7d0_70f1a19c6fa9row9_col0\" class=\"data row9 col0\" >Bagging</td>\n",
       "                        <td id=\"T_3cd347d0_dabe_11eb_b7d0_70f1a19c6fa9row9_col1\" class=\"data row9 col1\" >0.750533</td>\n",
       "                        <td id=\"T_3cd347d0_dabe_11eb_b7d0_70f1a19c6fa9row9_col2\" class=\"data row9 col2\" >0.716418</td>\n",
       "            </tr>\n",
       "    </tbody></table>"
      ],
      "text/plain": [
       "<pandas.io.formats.style.Styler at 0xaede220>"
      ]
     },
     "execution_count": 35,
     "metadata": {},
     "output_type": "execute_result"
    }
   ],
   "source": [
    "final_results_df = pd.DataFrame(final_results)\n",
    "\n",
    "final_results_df.sort_values(by='Acc Val', ascending=False, ignore_index=True, inplace=True)\n",
    "\n",
    "final_results_df.style.highlight_max(color='lightgreen', axis=0)"
   ]
  },
  {
   "cell_type": "code",
   "execution_count": 36,
   "metadata": {},
   "outputs": [],
   "source": [
    "# Covert Dataframe to csv\n",
    "final_results_df.to_csv('results.csv')"
   ]
  },
  {
   "cell_type": "code",
   "execution_count": 37,
   "metadata": {},
   "outputs": [
    {
     "data": {
      "image/png": "[encoded data removed]",
      "text/plain": [
       "<Figure size 1080x360 with 1 Axes>"
      ]
     },
     "metadata": {
      "needs_background": "light"
     },
     "output_type": "display_data"
    }
   ],
   "source": [
    "# Plot Models' accuracy (Training and Validation)\n",
    "import matplotlib.pyplot as plt\n",
    "import numpy as np\n",
    "%matplotlib inline\n",
    "final_results_df.plot.bar(x='Model', y=['Acc Train', 'Acc Val'], figsize=(15,5))\n",
    "plt.yticks(np.arange(0, 1.1, 0.1))\n",
    "plt.grid()\n",
    "plt.show()"
   ]
  },
  {
   "cell_type": "markdown",
   "metadata": {},
   "source": [
    "# Testing by the best model"
   ]
  },
  {
   "cell_type": "code",
   "execution_count": 38,
   "metadata": {},
   "outputs": [
    {
     "data": {
      "text/plain": [
       "GradientBoostingClassifier(learning_rate=0.05, max_depth=2, n_estimators=500,\n",
       "                           random_state=2)"
      ]
     },
     "execution_count": 38,
     "metadata": {},
     "output_type": "execute_result"
    }
   ],
   "source": [
    "# Best Model\n",
    "gbct_clf = GradientBoostingClassifier(max_depth=2, n_estimators=500,learning_rate=0.05,random_state=2)\n",
    "# Training Model\n",
    "gbct_clf.fit(X_train_scaled, y_train)"
   ]
  },
  {
   "cell_type": "code",
   "execution_count": 39,
   "metadata": {},
   "outputs": [],
   "source": [
    "y_pred_test = gbct_clf.predict(X_test_scaled)\n",
    "#print(\"Testing Accuracy:\",accuracy_score(y_test, y_pred_test))"
   ]
  },
  {
   "cell_type": "code",
   "execution_count": 40,
   "metadata": {},
   "outputs": [],
   "source": [
    "# import used libraries for evaluation the model\n",
    "from sklearn.metrics import confusion_matrix\n",
    "from sklearn.metrics import precision_score\n",
    "from sklearn.metrics import recall_score\n",
    "from sklearn.metrics import f1_score"
   ]
  },
  {
   "cell_type": "code",
   "execution_count": 41,
   "metadata": {},
   "outputs": [],
   "source": [
    "def eval_model (y_actual,y_pred):\n",
    "    print(\"Confusion Matrix:\\n\",confusion_matrix(y_actual, y_pred))\n",
    "    print(\"Precision:\",precision_score(y_actual, y_pred))\n",
    "    print(\"Recall:   \",recall_score(y_actual, y_pred))\n",
    "    print(\"F1Score:  \" ,f1_score(y_actual, y_pred))\n",
    "    print(\"Acc Test: \",accuracy_score(y_actual, y_pred))"
   ]
  },
  {
   "cell_type": "code",
   "execution_count": 42,
   "metadata": {},
   "outputs": [
    {
     "name": "stdout",
     "output_type": "stream",
     "text": [
      "Confusion Matrix:\n",
      " [[293  25]\n",
      " [ 50 292]]\n",
      "Precision: 0.9211356466876972\n",
      "Recall:    0.8538011695906432\n",
      "F1Score:   0.8861911987860395\n",
      "Acc Test:  0.8863636363636364\n"
     ]
    }
   ],
   "source": [
    "eval_model(y_test, y_pred_test)"
   ]
  },
  {
   "cell_type": "markdown",
   "metadata": {},
   "source": [
    "# Save model"
   ]
  },
  {
   "cell_type": "code",
   "execution_count": 43,
   "metadata": {},
   "outputs": [],
   "source": [
    "import pickle\n",
    "with open('saved-model.pickle', 'wb') as f:\n",
    "    pickle.dump(gbct_clf, f)"
   ]
  },
  {
   "cell_type": "markdown",
   "metadata": {},
   "source": [
    "### Feature importances\n",
    "Not all features are important. As we can see, some features are even not used at all!. We can use the array gbct_clf.feature_importances_ to know the degree of importance of each feature."
   ]
  },
  {
   "cell_type": "code",
   "execution_count": 44,
   "metadata": {},
   "outputs": [],
   "source": [
    "feature_names = [\"Level_of_Hemoglobin\",\n",
    "                 \"Genetic_Pedigree_Coefficient\",\n",
    "                 \"Age\",\"BMI\",\"Sex\",\n",
    "                 \"Smoking\",\"Physical_activity\",\n",
    "                 \"salt_content_in_the_diet\",\n",
    "                 \"alcohol_consumption_per_day\",\n",
    "                 \"Level_of_Stress\",\n",
    "               \" Chronic_kidney_disease\",\n",
    "                 \"Adrenal_and_thyroid_disorders\"]"
   ]
  },
  {
   "cell_type": "code",
   "execution_count": 45,
   "metadata": {},
   "outputs": [
    {
     "data": {
      "image/png": "[encoded data removed]",
      "text/plain": [
       "<Figure size 432x288 with 1 Axes>"
      ]
     },
     "metadata": {
      "needs_background": "light"
     },
     "output_type": "display_data"
    }
   ],
   "source": [
    "plt.bar(feature_names, gbct_clf.feature_importances_)\n",
    "plt.xticks(rotation=90)\n",
    "plt.ylabel('importance')\n",
    "plt.title('Feature importances')\n",
    "plt.show()"
   ]
  },
  {
   "cell_type": "code",
   "execution_count": 47,
   "metadata": {},
   "outputs": [],
   "source": [
    "x=[11.28,0.90,34,23,1,1.00,45961,48071,205.0,3,0,0]"
   ]
  },
  {
   "cell_type": "code",
   "execution_count": 53,
   "metadata": {},
   "outputs": [
    {
     "ename": "ValueError",
     "evalue": "cannot reshape array of size 12 into shape (1,newaxis,0)",
     "output_type": "error",
     "traceback": [
      "\u001b[1;31m---------------------------------------------------------------------------\u001b[0m",
      "\u001b[1;31mValueError\u001b[0m                                Traceback (most recent call last)",
      "\u001b[1;32m<ipython-input-53-d1f06a85b33d>\u001b[0m in \u001b[0;36m<module>\u001b[1;34m\u001b[0m\n\u001b[1;32m----> 1\u001b[1;33m \u001b[0mx\u001b[0m\u001b[1;33m=\u001b[0m\u001b[0mnp\u001b[0m\u001b[1;33m.\u001b[0m\u001b[0marray\u001b[0m\u001b[1;33m(\u001b[0m\u001b[0mx\u001b[0m\u001b[1;33m)\u001b[0m\u001b[1;33m.\u001b[0m\u001b[0mreshape\u001b[0m\u001b[1;33m(\u001b[0m\u001b[1;36m1\u001b[0m\u001b[1;33m,\u001b[0m\u001b[1;33m-\u001b[0m\u001b[1;36m1\u001b[0m\u001b[1;33m,\u001b[0m\u001b[1;36m0\u001b[0m\u001b[1;33m)\u001b[0m\u001b[1;33m\u001b[0m\u001b[1;33m\u001b[0m\u001b[0m\n\u001b[0m\u001b[0;32m      2\u001b[0m \u001b[0mx_scaled\u001b[0m\u001b[1;33m=\u001b[0m\u001b[0mscaler\u001b[0m\u001b[1;33m.\u001b[0m\u001b[0mtransform\u001b[0m\u001b[1;33m(\u001b[0m\u001b[0mx\u001b[0m\u001b[1;33m)\u001b[0m\u001b[1;33m\u001b[0m\u001b[1;33m\u001b[0m\u001b[0m\n",
      "\u001b[1;31mValueError\u001b[0m: cannot reshape array of size 12 into shape (1,newaxis,0)"
     ]
    }
   ],
   "source": [
    "x=np.array(x).reshape(1,-1,0)\n",
    "x_scaled=scaler.transform(x)"
   ]
  },
  {
   "cell_type": "code",
   "execution_count": 54,
   "metadata": {},
   "outputs": [
    {
     "ename": "NameError",
     "evalue": "name 'saved' is not defined",
     "output_type": "error",
     "traceback": [
      "\u001b[1;31m---------------------------------------------------------------------------\u001b[0m",
      "\u001b[1;31mNameError\u001b[0m                                 Traceback (most recent call last)",
      "\u001b[1;32m<ipython-input-54-36990e3d7de6>\u001b[0m in \u001b[0;36m<module>\u001b[1;34m\u001b[0m\n\u001b[1;32m----> 1\u001b[1;33m \u001b[0my\u001b[0m\u001b[1;33m=\u001b[0m\u001b[0msaved\u001b[0m\u001b[1;33m-\u001b[0m\u001b[0mmodelpredict\u001b[0m\u001b[1;33m(\u001b[0m\u001b[0mx_scaled\u001b[0m\u001b[1;33m)\u001b[0m\u001b[1;33m\u001b[0m\u001b[1;33m\u001b[0m\u001b[0m\n\u001b[0m",
      "\u001b[1;31mNameError\u001b[0m: name 'saved' is not defined"
     ]
    }
   ],
   "source": [
    "y=saved-modelpredict(x_scaled)"
   ]
  },
  {
   "cell_type": "code",
   "execution_count": null,
   "metadata": {},
   "outputs": [],
   "source": []
  }
 ],
 "metadata": {
  "kernelspec": {
   "display_name": "Python 3",
   "language": "python",
   "name": "python3"
  },
  "language_info": {
   "codemirror_mode": {
    "name": "ipython",
    "version": 3
   },
   "file_extension": ".py",
   "mimetype": "text/x-python",
   "name": "python",
   "nbconvert_exporter": "python",
   "pygments_lexer": "ipython3",
   "version": "3.8.5"
  }
 },
 "nbformat": 4,
 "nbformat_minor": 4
}
